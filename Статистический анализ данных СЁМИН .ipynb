{
 "cells": [
  {
   "cell_type": "markdown",
   "id": "fa06ec2d",
   "metadata": {},
   "source": [
    "<div style=\"border:solid Purple 2px; padding: 40px\">\n",
    "\n",
    "<b>Привет, Николай!👋\n",
    "\n",
    "Меня зовут Эльвира, я буду ревьюером твоего проекта. Предлагаю общаться на «ты», но если это не удобно - дай мне знать, и мы перейдем на «вы».\n",
    "\n",
    "\n",
    "Ты можешь найти мои комментарии, обозначенные <font color='green'>зеленым</font>, <font color='gold'>желтым</font> и <font color='red'>красным</font> цветами, например:\n",
    "\n",
    "\n",
    "<div class=\"alert alert-success\">\n",
    "<h2> Комментарий ревьюера 😊<a class=\"tocSkip\"> </h2>\n",
    "    \n",
    "Такими комментариями я буду помечать отлично проделаную работу😉\n",
    "</div>\n",
    "    \n",
    "<div class=\"alert alert-warning\">\n",
    "<h2> Комментарий ревьюера 🤓<a class=\"tocSkip\"> </h2>\n",
    "        \n",
    "В таких комментариях я постараюсь подсказать тебе более элегантное или легкое решение, некоторые хитрости и фишки. Части проекта, помеченные такими комментариями, можно не исправлять, но рекомендую обратить на них внимание.</div>\n",
    "\n",
    "<div class=\"alert alert-block alert-danger\">\n",
    "<h2> Комментарий ревьюера ⛔️<a class=\"tocSkip\"></h2>\n",
    "    \n",
    "В случае, когда решение на отдельном шаге требует существенной переработки и внесения правок. Если ты видишь такой комментарий, значит здесть есть недочет, который следует исправить.\n",
    "</div>\n",
    "\n",
    "Ты также можешь реагировать на мои комментарии своими, выделяя их цветами и наиболее понравившимся тебе способом оформления, но явно  отличающимся от моих комментариев. Это нужно, чтобы не создавалась путаница🙃\n",
    "    \n",
    "`<div class=\"alert alert-info\"> <b>Комментарий студента:</b> Например, вот так.</div>`\n",
    "\n",
    "Чтобы сделать подобный блок, кликни здесь дважды и скопируй всю предыдущую строку ;)\n",
    "    \n",
    "Пожалуйста, не удаляй и не перемещай мои комментарии, они будут особенно полезны для нашей работы в случае повторной проверки проекта.</div></b>"
   ]
  },
  {
   "cell_type": "markdown",
   "id": "bdd8c549",
   "metadata": {},
   "source": [
    "# Проект: Статистический анализ данных"
   ]
  },
  {
   "cell_type": "markdown",
   "id": "478ef51c",
   "metadata": {},
   "source": [
    "# Краткое описание проекта"
   ]
  },
  {
   "cell_type": "markdown",
   "id": "6aa0c497",
   "metadata": {},
   "source": [
    "Вы аналитик популярного сервиса аренды самокатов GoFast. Вам передали данные о некоторых пользователях из нескольких городов, а также об их поездках. Проанализируйте данные и проверьте некоторые гипотезы, которые могут помочь бизнесу вырасти.\n",
    "\n",
    "\n",
    "Чтобы совершать поездки по городу, пользователи сервиса GoFast пользуются мобильным приложением. \n",
    "\n",
    "Сервисом можно пользоваться:\n",
    "\n",
    "   - без подписки\n",
    "   \n",
    "       1) абонентская плата отсутствует;\n",
    "       \n",
    "       2) стоимость одной минуты поездки — 8 рублей;\n",
    "       \n",
    "       3) стоимость старта (начала поездки) — 50 рублей;\n",
    "       \n",
    "       \n",
    "   - с подпиской Ultra\n",
    "   \n",
    "       1) абонентская плата — 199 рублей в месяц;\n",
    "       \n",
    "       2) стоимость одной минуты поездки — 6 рублей;\n",
    "       \n",
    "       3) стоимость старта — бесплатно"
   ]
  },
  {
   "cell_type": "markdown",
   "id": "586f2a7d",
   "metadata": {},
   "source": [
    "# Описание данных\n",
    "\n",
    "**Пользователи — users_go.csv**\n",
    "\n",
    "user_id — уникальный идентификатор пользователя\n",
    "\n",
    "\n",
    "name — имя пользователя\n",
    "\n",
    "\n",
    "age — возраст\n",
    "\n",
    "\n",
    "city — город\n",
    "\n",
    "\n",
    "subscription_type — тип подписки (free, ultra)\n",
    "\n",
    "\n",
    "**Поeздки — rides_go.csv**\n",
    "\n",
    "user_id — уникальный идентификатор пользователя\n",
    "\n",
    "\n",
    "distance — расстояние, которое пользователь проехал в текущей сессии (в метрах)\n",
    "\n",
    "\n",
    "duration — продолжительность сессии (в минутах) — время с того момента, как пользователь нажал кнопку «Начать поездку» до момента, как он нажал кнопку «Завершить поездку»\n",
    "\n",
    "\n",
    "date — дата совершения поездки\n",
    "\n",
    "**Подписки — subscriptions_go.csv**\n",
    "\n",
    "subscription_type — тип подписки\n",
    "\n",
    "\n",
    "minute_price — стоимость одной минуты поездки по данной подписке\n",
    "\n",
    "\n",
    "start_ride_price — стоимость начала поездки\n",
    "\n",
    "\n",
    "subscription_fee — стоимость ежемесячного платежа"
   ]
  },
  {
   "cell_type": "markdown",
   "id": "6bd34919",
   "metadata": {},
   "source": [
    "<div class=\"alert alert-block alert-danger\">\n",
    "<h2> Комментарий ревьюера ⛔️<a class=\"tocSkip\"></h2>\n",
    "<s>\n",
    "Введение, как и общий вывод - важные части твоей работы, на которые в первую очередь обращает внимание заказчик. Давай добавим следующие пункты:\n",
    "* заголовок,\n",
    "\n",
    "* краткое описание проекта,\n",
    "\n",
    "* выделим цель проекта\n",
    "\n",
    "* описание данных\n",
    "\n",
    "* краткий план работы, выделим основные этапы, которые должны сделать.\n",
    "\n",
    "Тогда получатель отчета сможет быстрей его понять.\n",
    "\n",
    "</div>"
   ]
  },
  {
   "cell_type": "markdown",
   "id": "44d5b31d",
   "metadata": {},
   "source": [
    "<div class=\"alert alert-success\">\n",
    "<h2> Комментарий ревьюера 😊 v_2 <a class=\"tocSkip\"> </h2>\n",
    "\n",
    "Отличное введение к проекту)"
   ]
  },
  {
   "cell_type": "code",
   "execution_count": 1,
   "id": "72576667",
   "metadata": {},
   "outputs": [],
   "source": [
    "import pandas as pd\n",
    "import matplotlib.pyplot as plt\n",
    "import seaborn as sns\n",
    "import numpy as np\n",
    "from scipy import stats as st\n",
    "import matplotlib.patches as mpatches"
   ]
  },
  {
   "cell_type": "markdown",
   "id": "362f8cde",
   "metadata": {},
   "source": [
    "<div class=\"alert alert-warning\">\n",
    "<h2> Комментарий ревьюера 🤓<a class=\"tocSkip\"> </h2>\n",
    "\n",
    "Импорт всех библиотек лучше производить в одной ячейке. Так сложней случайно удалить ячейку с загрузкой нужной библиотеки и сделать код не работающим. А получатель отчета сразу поймет, какие библиотеки ты используешь и какие ему нужно установить для запуска проекта.\n"
   ]
  },
  {
   "cell_type": "markdown",
   "id": "d1f5fc27",
   "metadata": {},
   "source": [
    "<div class=\"alert alert-success\">\n",
    "<h2> Комментарий ревьюера 😊 v_2 <a class=\"tocSkip\"> </h2>\n",
    "\n",
    "👍"
   ]
  },
  {
   "cell_type": "markdown",
   "id": "c42cbe00",
   "metadata": {},
   "source": [
    "#### Шаг 1. Загрузка данных"
   ]
  },
  {
   "cell_type": "markdown",
   "id": "0a8015c3",
   "metadata": {},
   "source": [
    "##### Считайте CSV-файлы с данными с помощью библиотеки pandas и сохраните их в датафреймы. "
   ]
  },
  {
   "cell_type": "code",
   "execution_count": 2,
   "id": "eff9f206",
   "metadata": {},
   "outputs": [],
   "source": [
    "users = pd.read_csv('/datasets/users_go.csv')"
   ]
  },
  {
   "cell_type": "code",
   "execution_count": 3,
   "id": "41788198",
   "metadata": {},
   "outputs": [],
   "source": [
    "rides = pd.read_csv('/datasets/rides_go.csv')"
   ]
  },
  {
   "cell_type": "code",
   "execution_count": 4,
   "id": "39c0fe23",
   "metadata": {},
   "outputs": [],
   "source": [
    "subscriptions = pd.read_csv('/datasets/subscriptions_go.csv')"
   ]
  },
  {
   "cell_type": "markdown",
   "id": "18062a07",
   "metadata": {},
   "source": [
    "##### Выведите первые строки каждого набора данных. Изучите общую информацию о каждом датафрейме."
   ]
  },
  {
   "cell_type": "code",
   "execution_count": 5,
   "id": "8201a351",
   "metadata": {},
   "outputs": [
    {
     "data": {
      "text/html": [
       "<div>\n",
       "<style scoped>\n",
       "    .dataframe tbody tr th:only-of-type {\n",
       "        vertical-align: middle;\n",
       "    }\n",
       "\n",
       "    .dataframe tbody tr th {\n",
       "        vertical-align: top;\n",
       "    }\n",
       "\n",
       "    .dataframe thead th {\n",
       "        text-align: right;\n",
       "    }\n",
       "</style>\n",
       "<table border=\"1\" class=\"dataframe\">\n",
       "  <thead>\n",
       "    <tr style=\"text-align: right;\">\n",
       "      <th></th>\n",
       "      <th>user_id</th>\n",
       "      <th>name</th>\n",
       "      <th>age</th>\n",
       "      <th>city</th>\n",
       "      <th>subscription_type</th>\n",
       "    </tr>\n",
       "  </thead>\n",
       "  <tbody>\n",
       "    <tr>\n",
       "      <th>0</th>\n",
       "      <td>1</td>\n",
       "      <td>Кира</td>\n",
       "      <td>22</td>\n",
       "      <td>Тюмень</td>\n",
       "      <td>ultra</td>\n",
       "    </tr>\n",
       "    <tr>\n",
       "      <th>1</th>\n",
       "      <td>2</td>\n",
       "      <td>Станислав</td>\n",
       "      <td>31</td>\n",
       "      <td>Омск</td>\n",
       "      <td>ultra</td>\n",
       "    </tr>\n",
       "    <tr>\n",
       "      <th>2</th>\n",
       "      <td>3</td>\n",
       "      <td>Алексей</td>\n",
       "      <td>20</td>\n",
       "      <td>Москва</td>\n",
       "      <td>ultra</td>\n",
       "    </tr>\n",
       "    <tr>\n",
       "      <th>3</th>\n",
       "      <td>4</td>\n",
       "      <td>Константин</td>\n",
       "      <td>26</td>\n",
       "      <td>Ростов-на-Дону</td>\n",
       "      <td>ultra</td>\n",
       "    </tr>\n",
       "    <tr>\n",
       "      <th>4</th>\n",
       "      <td>5</td>\n",
       "      <td>Адель</td>\n",
       "      <td>28</td>\n",
       "      <td>Омск</td>\n",
       "      <td>ultra</td>\n",
       "    </tr>\n",
       "  </tbody>\n",
       "</table>\n",
       "</div>"
      ],
      "text/plain": [
       "   user_id        name  age            city subscription_type\n",
       "0        1        Кира   22          Тюмень             ultra\n",
       "1        2   Станислав   31            Омск             ultra\n",
       "2        3     Алексей   20          Москва             ultra\n",
       "3        4  Константин   26  Ростов-на-Дону             ultra\n",
       "4        5       Адель   28            Омск             ultra"
      ]
     },
     "metadata": {},
     "output_type": "display_data"
    }
   ],
   "source": [
    "display(users.head())"
   ]
  },
  {
   "cell_type": "code",
   "execution_count": 6,
   "id": "13b80e43",
   "metadata": {},
   "outputs": [
    {
     "name": "stdout",
     "output_type": "stream",
     "text": [
      "<class 'pandas.core.frame.DataFrame'>\n",
      "RangeIndex: 1565 entries, 0 to 1564\n",
      "Data columns (total 5 columns):\n",
      " #   Column             Non-Null Count  Dtype \n",
      "---  ------             --------------  ----- \n",
      " 0   user_id            1565 non-null   int64 \n",
      " 1   name               1565 non-null   object\n",
      " 2   age                1565 non-null   int64 \n",
      " 3   city               1565 non-null   object\n",
      " 4   subscription_type  1565 non-null   object\n",
      "dtypes: int64(2), object(3)\n",
      "memory usage: 61.3+ KB\n"
     ]
    }
   ],
   "source": [
    "users.info()"
   ]
  },
  {
   "cell_type": "markdown",
   "id": "1c6816da",
   "metadata": {},
   "source": [
    "Можем заметить: в таблице 1565 строк, в каждом из столбцов отмечено 1565 значений - значит пропусков нет"
   ]
  },
  {
   "cell_type": "markdown",
   "id": "5eee0ce5",
   "metadata": {},
   "source": [
    "Все типы данных столбцов корректны относительно их смысла - user_id и age целочисленные, name и city и subscription_type строковые"
   ]
  },
  {
   "cell_type": "code",
   "execution_count": 7,
   "id": "10cdf618",
   "metadata": {
    "scrolled": true
   },
   "outputs": [
    {
     "data": {
      "text/html": [
       "<div>\n",
       "<style scoped>\n",
       "    .dataframe tbody tr th:only-of-type {\n",
       "        vertical-align: middle;\n",
       "    }\n",
       "\n",
       "    .dataframe tbody tr th {\n",
       "        vertical-align: top;\n",
       "    }\n",
       "\n",
       "    .dataframe thead th {\n",
       "        text-align: right;\n",
       "    }\n",
       "</style>\n",
       "<table border=\"1\" class=\"dataframe\">\n",
       "  <thead>\n",
       "    <tr style=\"text-align: right;\">\n",
       "      <th></th>\n",
       "      <th>user_id</th>\n",
       "      <th>distance</th>\n",
       "      <th>duration</th>\n",
       "      <th>date</th>\n",
       "    </tr>\n",
       "  </thead>\n",
       "  <tbody>\n",
       "    <tr>\n",
       "      <th>0</th>\n",
       "      <td>1</td>\n",
       "      <td>4409.919140</td>\n",
       "      <td>25.599769</td>\n",
       "      <td>2021-01-01</td>\n",
       "    </tr>\n",
       "    <tr>\n",
       "      <th>1</th>\n",
       "      <td>1</td>\n",
       "      <td>2617.592153</td>\n",
       "      <td>15.816871</td>\n",
       "      <td>2021-01-18</td>\n",
       "    </tr>\n",
       "    <tr>\n",
       "      <th>2</th>\n",
       "      <td>1</td>\n",
       "      <td>754.159807</td>\n",
       "      <td>6.232113</td>\n",
       "      <td>2021-04-20</td>\n",
       "    </tr>\n",
       "    <tr>\n",
       "      <th>3</th>\n",
       "      <td>1</td>\n",
       "      <td>2694.783254</td>\n",
       "      <td>18.511000</td>\n",
       "      <td>2021-08-11</td>\n",
       "    </tr>\n",
       "    <tr>\n",
       "      <th>4</th>\n",
       "      <td>1</td>\n",
       "      <td>4028.687306</td>\n",
       "      <td>26.265803</td>\n",
       "      <td>2021-08-28</td>\n",
       "    </tr>\n",
       "  </tbody>\n",
       "</table>\n",
       "</div>"
      ],
      "text/plain": [
       "   user_id     distance   duration        date\n",
       "0        1  4409.919140  25.599769  2021-01-01\n",
       "1        1  2617.592153  15.816871  2021-01-18\n",
       "2        1   754.159807   6.232113  2021-04-20\n",
       "3        1  2694.783254  18.511000  2021-08-11\n",
       "4        1  4028.687306  26.265803  2021-08-28"
      ]
     },
     "metadata": {},
     "output_type": "display_data"
    }
   ],
   "source": [
    "display(rides.head())"
   ]
  },
  {
   "cell_type": "code",
   "execution_count": 8,
   "id": "06e063d2",
   "metadata": {},
   "outputs": [
    {
     "name": "stdout",
     "output_type": "stream",
     "text": [
      "<class 'pandas.core.frame.DataFrame'>\n",
      "RangeIndex: 18068 entries, 0 to 18067\n",
      "Data columns (total 4 columns):\n",
      " #   Column    Non-Null Count  Dtype  \n",
      "---  ------    --------------  -----  \n",
      " 0   user_id   18068 non-null  int64  \n",
      " 1   distance  18068 non-null  float64\n",
      " 2   duration  18068 non-null  float64\n",
      " 3   date      18068 non-null  object \n",
      "dtypes: float64(2), int64(1), object(1)\n",
      "memory usage: 564.8+ KB\n"
     ]
    }
   ],
   "source": [
    "rides.info()"
   ]
  },
  {
   "cell_type": "markdown",
   "id": "5e973d80",
   "metadata": {},
   "source": [
    "Можем заметить: в таблице 18068 строк, в каждом из столбцов отмечено 18068 значений - значит пропусков нет"
   ]
  },
  {
   "cell_type": "markdown",
   "id": "46f312e1",
   "metadata": {},
   "source": [
    "Почти все типы данных столбцов корректны относительно их смысла - user_id целочисленный, distance и duration вещественные\n",
    "Только date - строковый, но для даты правильнее был бы тип данных datetime"
   ]
  },
  {
   "cell_type": "code",
   "execution_count": 9,
   "id": "04c35cd5",
   "metadata": {},
   "outputs": [
    {
     "data": {
      "text/html": [
       "<div>\n",
       "<style scoped>\n",
       "    .dataframe tbody tr th:only-of-type {\n",
       "        vertical-align: middle;\n",
       "    }\n",
       "\n",
       "    .dataframe tbody tr th {\n",
       "        vertical-align: top;\n",
       "    }\n",
       "\n",
       "    .dataframe thead th {\n",
       "        text-align: right;\n",
       "    }\n",
       "</style>\n",
       "<table border=\"1\" class=\"dataframe\">\n",
       "  <thead>\n",
       "    <tr style=\"text-align: right;\">\n",
       "      <th></th>\n",
       "      <th>subscription_type</th>\n",
       "      <th>minute_price</th>\n",
       "      <th>start_ride_price</th>\n",
       "      <th>subscription_fee</th>\n",
       "    </tr>\n",
       "  </thead>\n",
       "  <tbody>\n",
       "    <tr>\n",
       "      <th>0</th>\n",
       "      <td>free</td>\n",
       "      <td>8</td>\n",
       "      <td>50</td>\n",
       "      <td>0</td>\n",
       "    </tr>\n",
       "    <tr>\n",
       "      <th>1</th>\n",
       "      <td>ultra</td>\n",
       "      <td>6</td>\n",
       "      <td>0</td>\n",
       "      <td>199</td>\n",
       "    </tr>\n",
       "  </tbody>\n",
       "</table>\n",
       "</div>"
      ],
      "text/plain": [
       "  subscription_type  minute_price  start_ride_price  subscription_fee\n",
       "0              free             8                50                 0\n",
       "1             ultra             6                 0               199"
      ]
     },
     "metadata": {},
     "output_type": "display_data"
    }
   ],
   "source": [
    "display(subscriptions.head())"
   ]
  },
  {
   "cell_type": "code",
   "execution_count": 10,
   "id": "002c81f7",
   "metadata": {},
   "outputs": [
    {
     "name": "stdout",
     "output_type": "stream",
     "text": [
      "<class 'pandas.core.frame.DataFrame'>\n",
      "RangeIndex: 2 entries, 0 to 1\n",
      "Data columns (total 4 columns):\n",
      " #   Column             Non-Null Count  Dtype \n",
      "---  ------             --------------  ----- \n",
      " 0   subscription_type  2 non-null      object\n",
      " 1   minute_price       2 non-null      int64 \n",
      " 2   start_ride_price   2 non-null      int64 \n",
      " 3   subscription_fee   2 non-null      int64 \n",
      "dtypes: int64(3), object(1)\n",
      "memory usage: 192.0+ bytes\n"
     ]
    }
   ],
   "source": [
    "subscriptions.info()"
   ]
  },
  {
   "cell_type": "markdown",
   "id": "e50d8d12",
   "metadata": {},
   "source": [
    "Можем заметить: в таблице 2 строки, в каждом из столбцов отмечено 2 значения - значит пропусков нет"
   ]
  },
  {
   "cell_type": "markdown",
   "id": "66d1d118",
   "metadata": {},
   "source": [
    "Все типы данных столбцов корректны относительно их смысла "
   ]
  },
  {
   "cell_type": "markdown",
   "id": "f64a0446",
   "metadata": {},
   "source": [
    "<div class=\"alert alert-warning\">\n",
    "<h2> Комментарий ревьюера 🤓<a class=\"tocSkip\"> </h2>\n",
    "    \n",
    "Сразу после получения информации о таблице, будет здорово сформулировать вывод: проверить типы данных, а также важно понять, что по пропущенным значениям.\n",
    "</div>"
   ]
  },
  {
   "cell_type": "markdown",
   "id": "0505fbb6",
   "metadata": {},
   "source": [
    "<div class=\"alert alert-info\" style=\"border-radius: 10px; box-shadow: 2px 2px 2px; border: 1px solid; padding: 10px \"> \n",
    "<b>Комментарий студента</b> \n",
    "\n",
    "  Исправил, спасибо за комментарий !\n",
    "</div>"
   ]
  },
  {
   "cell_type": "markdown",
   "id": "b64daa91",
   "metadata": {},
   "source": [
    "<div class=\"alert alert-success\">\n",
    "<h2> Комментарий ревьюера 😊 v_2 <a class=\"tocSkip\"> </h2>\n",
    "\n",
    "Отлично)"
   ]
  },
  {
   "cell_type": "markdown",
   "id": "e95ebca7",
   "metadata": {},
   "source": [
    "#### Шаг 2. Предобработка данных"
   ]
  },
  {
   "cell_type": "markdown",
   "id": "8c7d6656",
   "metadata": {},
   "source": [
    "##### Приведите столбец date к типу даты pandas"
   ]
  },
  {
   "cell_type": "code",
   "execution_count": 11,
   "id": "af6d202c",
   "metadata": {},
   "outputs": [
    {
     "data": {
      "text/plain": [
       "0       2021-01-01\n",
       "1       2021-01-18\n",
       "2       2021-04-20\n",
       "3       2021-08-11\n",
       "4       2021-08-28\n",
       "           ...    \n",
       "18063   2021-11-04\n",
       "18064   2021-11-16\n",
       "18065   2021-11-18\n",
       "18066   2021-11-27\n",
       "18067   2021-12-29\n",
       "Name: date, Length: 18068, dtype: datetime64[ns]"
      ]
     },
     "execution_count": 11,
     "metadata": {},
     "output_type": "execute_result"
    }
   ],
   "source": [
    "rides['date'] = pd.to_datetime(rides['date'])\n",
    "rides['date']"
   ]
  },
  {
   "cell_type": "markdown",
   "id": "378f6b5f",
   "metadata": {},
   "source": [
    "##### Создайте новый столбец с номером месяца на основе столбца date"
   ]
  },
  {
   "cell_type": "code",
   "execution_count": 12,
   "id": "d6cebe47",
   "metadata": {},
   "outputs": [
    {
     "data": {
      "text/plain": [
       "0         1\n",
       "1         1\n",
       "2         4\n",
       "3         8\n",
       "4         8\n",
       "         ..\n",
       "18063    11\n",
       "18064    11\n",
       "18065    11\n",
       "18066    11\n",
       "18067    12\n",
       "Name: month_n, Length: 18068, dtype: int64"
      ]
     },
     "execution_count": 12,
     "metadata": {},
     "output_type": "execute_result"
    }
   ],
   "source": [
    "rides['month_n'] = rides['date'].dt.month\n",
    "rides['month_n']"
   ]
  },
  {
   "cell_type": "markdown",
   "id": "981c2916",
   "metadata": {},
   "source": [
    "<div class=\"alert alert-warning\">\n",
    "<h2> Комментарий ревьюера 🤓<a class=\"tocSkip\"> </h2>\n",
    "    \n",
    "Будет хорошо проверить за какой период представлены данные, чтобы убедиться что данные за несколько лет не склеиются при агрегации по месяцам."
   ]
  },
  {
   "cell_type": "markdown",
   "id": "9ac5945d",
   "metadata": {},
   "source": [
    "<div class=\"alert alert-info\" style=\"border-radius: 10px; box-shadow: 2px 2px 2px; border: 1px solid; padding: 10px \"> \n",
    "<b>Комментарий студента</b> \n",
    "\n",
    "  Исправил в пункте 2.3, спасибо за комментарий !\n",
    "</div>"
   ]
  },
  {
   "cell_type": "markdown",
   "id": "ffa1d2c6",
   "metadata": {},
   "source": [
    "<div class=\"alert alert-success\">\n",
    "<h2> Комментарий ревьюера 😊 v_2 <a class=\"tocSkip\"> </h2>\n",
    "\n",
    "👍"
   ]
  },
  {
   "cell_type": "markdown",
   "id": "9edc28ef",
   "metadata": {},
   "source": [
    "##### Проверяем минимальную и максимальную даты в датафрейме"
   ]
  },
  {
   "cell_type": "code",
   "execution_count": 13,
   "id": "965bf6b8",
   "metadata": {},
   "outputs": [
    {
     "name": "stdout",
     "output_type": "stream",
     "text": [
      "Минимальная дата в датафрейме: 2021-01-01 00:00:00\n",
      "Максимальная дата в датафрейме: 2021-12-30 00:00:00\n"
     ]
    }
   ],
   "source": [
    "min_date = rides['date'].min()\n",
    "max_date = rides['date'].max()\n",
    "print(f\"Минимальная дата в датафрейме: {min_date}\")\n",
    "print(f\"Максимальная дата в датафрейме: {max_date}\")"
   ]
  },
  {
   "cell_type": "markdown",
   "id": "4e164131",
   "metadata": {},
   "source": [
    "Обнаружили, что предоставленные данные ограничены 2021 годом, поэтому мы можем быть уверены, что данные не будут склеиваться при агрегации.\n",
    "Однако при наличии такого риска мы бы могли добавить колонку с годом:\n",
    "\n",
    "Создаем новый столбец с номером года на основе столбца date\n",
    "rides['year'] = rides['date'].dt.year\n",
    "\n",
    "Проверяем распределение данных по годам\n",
    "year_distribution = rides['year'].value_counts()\n",
    "print(\"Распределение данных по годам:\")\n",
    "print(year_distribution)"
   ]
  },
  {
   "cell_type": "markdown",
   "id": "6bfda280",
   "metadata": {},
   "source": [
    "##### Проверьте наличие пропущенных значений и дубликатов в датафреймах. Обработайте их, если такие значения присутствуют."
   ]
  },
  {
   "cell_type": "code",
   "execution_count": 14,
   "id": "677e77e7",
   "metadata": {},
   "outputs": [
    {
     "data": {
      "text/plain": [
       "user_id              0\n",
       "name                 0\n",
       "age                  0\n",
       "city                 0\n",
       "subscription_type    0\n",
       "dtype: int64"
      ]
     },
     "execution_count": 14,
     "metadata": {},
     "output_type": "execute_result"
    }
   ],
   "source": [
    "users.isna().sum()"
   ]
  },
  {
   "cell_type": "code",
   "execution_count": 15,
   "id": "440918b3",
   "metadata": {},
   "outputs": [
    {
     "data": {
      "text/plain": [
       "user_id     0\n",
       "distance    0\n",
       "duration    0\n",
       "date        0\n",
       "month_n     0\n",
       "dtype: int64"
      ]
     },
     "execution_count": 15,
     "metadata": {},
     "output_type": "execute_result"
    }
   ],
   "source": [
    "rides.isna().sum()"
   ]
  },
  {
   "cell_type": "code",
   "execution_count": 16,
   "id": "278a4d97",
   "metadata": {},
   "outputs": [
    {
     "data": {
      "text/plain": [
       "subscription_type    0\n",
       "minute_price         0\n",
       "start_ride_price     0\n",
       "subscription_fee     0\n",
       "dtype: int64"
      ]
     },
     "execution_count": 16,
     "metadata": {},
     "output_type": "execute_result"
    }
   ],
   "source": [
    "subscriptions.isna().sum()"
   ]
  },
  {
   "cell_type": "code",
   "execution_count": 17,
   "id": "d3985dcc",
   "metadata": {},
   "outputs": [
    {
     "name": "stdout",
     "output_type": "stream",
     "text": [
      "31\n",
      "0\n",
      "0\n"
     ]
    }
   ],
   "source": [
    "print(users.duplicated().sum())\n",
    "print(rides.duplicated().sum())\n",
    "print(subscriptions.duplicated().sum())"
   ]
  },
  {
   "cell_type": "code",
   "execution_count": 18,
   "id": "742d427b",
   "metadata": {},
   "outputs": [
    {
     "data": {
      "text/html": [
       "<div>\n",
       "<style scoped>\n",
       "    .dataframe tbody tr th:only-of-type {\n",
       "        vertical-align: middle;\n",
       "    }\n",
       "\n",
       "    .dataframe tbody tr th {\n",
       "        vertical-align: top;\n",
       "    }\n",
       "\n",
       "    .dataframe thead th {\n",
       "        text-align: right;\n",
       "    }\n",
       "</style>\n",
       "<table border=\"1\" class=\"dataframe\">\n",
       "  <thead>\n",
       "    <tr style=\"text-align: right;\">\n",
       "      <th></th>\n",
       "      <th>user_id</th>\n",
       "      <th>name</th>\n",
       "      <th>age</th>\n",
       "      <th>city</th>\n",
       "      <th>subscription_type</th>\n",
       "    </tr>\n",
       "  </thead>\n",
       "  <tbody>\n",
       "    <tr>\n",
       "      <th>1534</th>\n",
       "      <td>293</td>\n",
       "      <td>Агата</td>\n",
       "      <td>26</td>\n",
       "      <td>Краснодар</td>\n",
       "      <td>ultra</td>\n",
       "    </tr>\n",
       "    <tr>\n",
       "      <th>292</th>\n",
       "      <td>293</td>\n",
       "      <td>Агата</td>\n",
       "      <td>26</td>\n",
       "      <td>Краснодар</td>\n",
       "      <td>ultra</td>\n",
       "    </tr>\n",
       "    <tr>\n",
       "      <th>1545</th>\n",
       "      <td>807</td>\n",
       "      <td>Александр</td>\n",
       "      <td>28</td>\n",
       "      <td>Екатеринбург</td>\n",
       "      <td>free</td>\n",
       "    </tr>\n",
       "    <tr>\n",
       "      <th>806</th>\n",
       "      <td>807</td>\n",
       "      <td>Александр</td>\n",
       "      <td>28</td>\n",
       "      <td>Екатеринбург</td>\n",
       "      <td>free</td>\n",
       "    </tr>\n",
       "    <tr>\n",
       "      <th>1553</th>\n",
       "      <td>121</td>\n",
       "      <td>Алина</td>\n",
       "      <td>25</td>\n",
       "      <td>Пятигорск</td>\n",
       "      <td>ultra</td>\n",
       "    </tr>\n",
       "    <tr>\n",
       "      <th>...</th>\n",
       "      <td>...</td>\n",
       "      <td>...</td>\n",
       "      <td>...</td>\n",
       "      <td>...</td>\n",
       "      <td>...</td>\n",
       "    </tr>\n",
       "    <tr>\n",
       "      <th>1563</th>\n",
       "      <td>47</td>\n",
       "      <td>Юрий</td>\n",
       "      <td>28</td>\n",
       "      <td>Тюмень</td>\n",
       "      <td>ultra</td>\n",
       "    </tr>\n",
       "    <tr>\n",
       "      <th>808</th>\n",
       "      <td>809</td>\n",
       "      <td>Юрий</td>\n",
       "      <td>26</td>\n",
       "      <td>Сочи</td>\n",
       "      <td>free</td>\n",
       "    </tr>\n",
       "    <tr>\n",
       "      <th>1561</th>\n",
       "      <td>809</td>\n",
       "      <td>Юрий</td>\n",
       "      <td>26</td>\n",
       "      <td>Сочи</td>\n",
       "      <td>free</td>\n",
       "    </tr>\n",
       "    <tr>\n",
       "      <th>306</th>\n",
       "      <td>307</td>\n",
       "      <td>Ясмина</td>\n",
       "      <td>19</td>\n",
       "      <td>Краснодар</td>\n",
       "      <td>ultra</td>\n",
       "    </tr>\n",
       "    <tr>\n",
       "      <th>1562</th>\n",
       "      <td>307</td>\n",
       "      <td>Ясмина</td>\n",
       "      <td>19</td>\n",
       "      <td>Краснодар</td>\n",
       "      <td>ultra</td>\n",
       "    </tr>\n",
       "  </tbody>\n",
       "</table>\n",
       "<p>62 rows × 5 columns</p>\n",
       "</div>"
      ],
      "text/plain": [
       "      user_id       name  age          city subscription_type\n",
       "1534      293      Агата   26     Краснодар             ultra\n",
       "292       293      Агата   26     Краснодар             ultra\n",
       "1545      807  Александр   28  Екатеринбург              free\n",
       "806       807  Александр   28  Екатеринбург              free\n",
       "1553      121      Алина   25     Пятигорск             ultra\n",
       "...       ...        ...  ...           ...               ...\n",
       "1563       47       Юрий   28        Тюмень             ultra\n",
       "808       809       Юрий   26          Сочи              free\n",
       "1561      809       Юрий   26          Сочи              free\n",
       "306       307     Ясмина   19     Краснодар             ultra\n",
       "1562      307     Ясмина   19     Краснодар             ultra\n",
       "\n",
       "[62 rows x 5 columns]"
      ]
     },
     "execution_count": 18,
     "metadata": {},
     "output_type": "execute_result"
    }
   ],
   "source": [
    "users[users.duplicated(keep=False) == True].sort_values('name')"
   ]
  },
  {
   "cell_type": "code",
   "execution_count": 19,
   "id": "9f76c7a0",
   "metadata": {},
   "outputs": [
    {
     "name": "stdout",
     "output_type": "stream",
     "text": [
      "31\n",
      "0\n"
     ]
    }
   ],
   "source": [
    "users_clean = users.drop_duplicates()\n",
    "print(users.duplicated().sum())\n",
    "print(users_clean.duplicated().sum())"
   ]
  },
  {
   "cell_type": "markdown",
   "id": "212593c7",
   "metadata": {},
   "source": [
    "#### Шаг 3. Исследовательский анализ данных"
   ]
  },
  {
   "cell_type": "markdown",
   "id": "d5105dd9",
   "metadata": {},
   "source": [
    "##### Опишите и визуализируйте общую информацию о пользователях и поездках:"
   ]
  },
  {
   "cell_type": "markdown",
   "id": "b68de9cb",
   "metadata": {},
   "source": [
    "###### частота встречаемости городов"
   ]
  },
  {
   "cell_type": "code",
   "execution_count": 20,
   "id": "e3a4274c",
   "metadata": {
    "scrolled": true
   },
   "outputs": [
    {
     "data": {
      "image/png": "[encoded data removed]",
      "text/plain": [
       "<Figure size 720x576 with 1 Axes>"
      ]
     },
     "metadata": {
      "needs_background": "light"
     },
     "output_type": "display_data"
    }
   ],
   "source": [
    "plt.figure(figsize=(10, 8))\n",
    "city_frequency = sns.barplot(x=list(users_clean['city'].value_counts().index), y=users_clean['city'].value_counts())\n",
    "plt.title('Частота встречаемости городов среди пользователей')\n",
    "plt.xlabel('Город')\n",
    "plt.ylabel('Количество пользователей')\n",
    "plt.xticks(rotation=90)\n",
    "plt.show()"
   ]
  },
  {
   "cell_type": "markdown",
   "id": "3445f664",
   "metadata": {},
   "source": [
    "Вывод числовых значений частотности городов:"
   ]
  },
  {
   "cell_type": "code",
   "execution_count": 21,
   "id": "761cf683",
   "metadata": {
    "scrolled": true
   },
   "outputs": [
    {
     "data": {
      "text/plain": [
       "Пятигорск         219\n",
       "Екатеринбург      204\n",
       "Ростов-на-Дону    198\n",
       "Краснодар         193\n",
       "Сочи              189\n",
       "Омск              183\n",
       "Тюмень            180\n",
       "Москва            168\n",
       "Name: city, dtype: int64"
      ]
     },
     "execution_count": 21,
     "metadata": {},
     "output_type": "execute_result"
    }
   ],
   "source": [
    "users_clean['city'].value_counts()"
   ]
  },
  {
   "cell_type": "markdown",
   "id": "4e56e546",
   "metadata": {},
   "source": [
    "**На основе графика частоты встречаемости городов среди пользователей и представленных числовых данных можно сделать следующий вывод:**\n",
    "\n",
    "Города представлены с различной частотой встречаемости среди пользователей. Самый популярный город — Пятигорск, в котором зарегистрировано 226 пользователей. Наименее популярный город среди представленных — Москва с 172 пользователями.\n",
    "\n",
    "Разница в количестве пользователей между самым популярным городом (Пятигорск) и наименее популярным (Москва) составляет 54 пользователя. Это указывает на то, что распределение пользователей не однородно и может отражать региональные предпочтения или эффективность маркетинговых кампаний в различных городах.\n",
    "\n",
    "Кроме того, близкие значения частотности у городов, следующих за Пятигорском (Екатеринбург, Ростов-на-Дону, Краснодар и т.д.), указывают на сравнительно равномерное распределение пользователей между этими городами. Это может свидетельствовать о том, что компания успешно привлекает пользователей в различных регионах, не сосредотачиваясь исключительно в одном городе или регионе."
   ]
  },
  {
   "cell_type": "markdown",
   "id": "b8d6191e",
   "metadata": {},
   "source": [
    "<div class=\"alert alert-block alert-danger\">\n",
    "<h2> Комментарий ревьюера ⛔️<a class=\"tocSkip\"></h2>\n",
    "<s>\n",
    " Также необходимо добавить вывод числовых значений частотности городов. Нужно добавить вывод по каждому пункту)"
   ]
  },
  {
   "cell_type": "markdown",
   "id": "1b6d1dd4",
   "metadata": {},
   "source": [
    "<div class=\"alert alert-info\" style=\"border-radius: 10px; box-shadow: 2px 2px 2px; border: 1px solid; padding: 10px \"> \n",
    "<b>Комментарий студента</b> \n",
    "\n",
    "  Понял о чем Вы, Вы имели в виду что я ошибся и **выводил значение одних городов, а подписывал совершенно другими городами**\n",
    "    \n",
    "  Ошибка была в этой строчке:\n",
    "    \n",
    "  city_frequency = sns.barplot(x=users_clean['city'].unique(), y=users_clean['city'].value_counts())\n",
    "    \n",
    "  Вместо **users_clean['city'].unique()** нужно использовать **list(users_clean['city'].value_counts().index)**\n",
    "</div>"
   ]
  },
  {
   "cell_type": "markdown",
   "id": "2700b24d",
   "metadata": {},
   "source": [
    "<div class=\"alert alert-success\">\n",
    "<h2> Комментарий ревьюера 😊 v_2 <a class=\"tocSkip\"> </h2>\n",
    "\n",
    "Очень хорошо, молодец)"
   ]
  },
  {
   "cell_type": "markdown",
   "id": "15f0728d",
   "metadata": {},
   "source": [
    "<div class=\"alert alert-warning\">\n",
    "<h2> Комментарий ревьюера 🤓 v_2 <a class=\"tocSkip\"> </h2>\n",
    "\n",
    "Можно использовать горизонтальный график, для наглядности)"
   ]
  },
  {
   "cell_type": "markdown",
   "id": "31b08ec4",
   "metadata": {},
   "source": [
    "###### соотношение пользователей с подпиской и без подписки"
   ]
  },
  {
   "cell_type": "code",
   "execution_count": 22,
   "id": "2fbae0dd",
   "metadata": {},
   "outputs": [
    {
     "data": {
      "image/png": "[encoded data removed]",
      "text/plain": [
       "<Figure size 576x576 with 1 Axes>"
      ]
     },
     "metadata": {},
     "output_type": "display_data"
    }
   ],
   "source": [
    "plt.figure(figsize=(8, 8))\n",
    "plt.pie(users_clean['subscription_type'].value_counts(), labels=users_clean['subscription_type'].value_counts().index, autopct='%1.1f%%', startangle=140, colors=['skyblue', 'lightgreen'])\n",
    "plt.title('Соотношение пользователей с подпиской и без подписки')\n",
    "plt.show()"
   ]
  },
  {
   "cell_type": "code",
   "execution_count": 23,
   "id": "32e9fe98",
   "metadata": {},
   "outputs": [
    {
     "name": "stdout",
     "output_type": "stream",
     "text": [
      "free     835\n",
      "ultra    699\n",
      "Name: subscription_type, dtype: int64\n",
      "free     54.432855\n",
      "ultra    45.567145\n",
      "Name: subscription_type, dtype: float64\n"
     ]
    }
   ],
   "source": [
    "subscription_counts = users_clean['subscription_type'].value_counts()\n",
    "subscription_proportions = subscription_counts / len(users_clean) * 100\n",
    "print(subscription_counts)\n",
    "print(subscription_proportions)"
   ]
  },
  {
   "cell_type": "markdown",
   "id": "c7651b36",
   "metadata": {},
   "source": [
    "**Вывод:**\n",
    "На основе предоставленных изображений, круговая диаграмма показывает распределение пользователей сервиса по типу подписки: 54.4% пользователей используют бесплатную подписку (обозначено как \"free\"), в то время как 45.6% имеют платную подписку (\"ultra\").\n",
    "\n",
    "Количественно это соотносится с следующими данными:\n",
    "\n",
    "Пользователи с бесплатной подпиской: 835\n",
    "\n",
    "Пользователи с платной подпиской: 699\n",
    "\n",
    "Это показывает, что хотя большая часть пользователей предпочитает бесплатный вариант, доля тех, кто выбирает платную подписку, также значительна."
   ]
  },
  {
   "cell_type": "markdown",
   "id": "5aa7a52d",
   "metadata": {},
   "source": [
    "<div class=\"alert alert-success\">\n",
    "<h2> Комментарий ревьюера 😊 v_2 <a class=\"tocSkip\"> </h2>\n",
    "\n",
    "Отлично)"
   ]
  },
  {
   "cell_type": "markdown",
   "id": "4619ca9b",
   "metadata": {},
   "source": [
    "<div class=\"alert alert-block alert-danger\">\n",
    "<h2> Комментарий ревьюера ⛔️<a class=\"tocSkip\"></h2>\n",
    "<s>\n",
    "Нам нужно вывести соотношение и кол-во пользователей по таблице с пользователями. Нужно добавить вывод)"
   ]
  },
  {
   "cell_type": "markdown",
   "id": "381938ab",
   "metadata": {},
   "source": [
    "###### возраст пользователей"
   ]
  },
  {
   "cell_type": "code",
   "execution_count": 24,
   "id": "7e45e90c",
   "metadata": {},
   "outputs": [
    {
     "data": {
      "image/png": "[encoded data removed]",
      "text/plain": [
       "<Figure size 720x432 with 1 Axes>"
      ]
     },
     "metadata": {
      "needs_background": "light"
     },
     "output_type": "display_data"
    }
   ],
   "source": [
    "plt.figure(figsize=(10, 6))\n",
    "plt.title('Распределение возраста пользователей')\n",
    "plt.xlabel('Возраст пользователей')\n",
    "plt.ylabel('Количество пользователей')\n",
    "users_clean['age'].hist();"
   ]
  },
  {
   "cell_type": "markdown",
   "id": "dc7fd71f",
   "metadata": {},
   "source": [
    "Гистограмма показывает распределение возраста пользователей. Основываясь на графике, можно сделать следующие выводы:\n",
    "\n",
    "Большинство пользователей сервиса находятся в возрастной группе от 20 до 30 лет. Это наиболее активная возрастная группа.\n",
    "\n",
    "Количество пользователей снижается как для моложе, так и старше этой возрастной группы. Особенно заметен спад после 30 лет.\n",
    "\n",
    "Пользователей младше 20 лет относительно мало, но их больше, чем пользователей старше 30 лет."
   ]
  },
  {
   "cell_type": "markdown",
   "id": "730fe3b2",
   "metadata": {},
   "source": [
    "###### расстояние, которое пользователь преодолел за одну поездку"
   ]
  },
  {
   "cell_type": "code",
   "execution_count": 25,
   "id": "485e1cb5",
   "metadata": {
    "scrolled": true
   },
   "outputs": [
    {
     "data": {
      "image/png": "[encoded data removed]",
      "text/plain": [
       "<Figure size 720x432 with 1 Axes>"
      ]
     },
     "metadata": {
      "needs_background": "light"
     },
     "output_type": "display_data"
    }
   ],
   "source": [
    "plt.figure(figsize=(10, 6))\n",
    "distance_plot = sns.histplot(rides['distance'], bins=30, kde=True, color='green')\n",
    "plt.title('Распределение расстояния, преодоленного за одну поездку')\n",
    "plt.xlabel('Расстояние (метры)')\n",
    "plt.ylabel('Количество поездок')\n",
    "plt.show()"
   ]
  },
  {
   "cell_type": "markdown",
   "id": "4210e33b",
   "metadata": {},
   "source": [
    "Гистограмма показывает распределение расстояний, преодолеваемых пользователями за одну поездку. Исходя из графика, можно сделать следующие выводы:\n",
    "\n",
    "Наиболее часто встречаемое расстояние поездок лежит в диапазоне около 2000 до 3000 метров. Это указывает на то, что большинство поездок совершается на средние дистанции.\n",
    "\n",
    "Распределение имеет явно выраженный пик и напоминает нормальное распределение, но с положительной асимметрией (правый хвост длиннее). Это означает, что хотя большинство поездок совершается на расстояниях, близких к наиболее часто встречаемому, существует также немалое количество более длинных поездок.\n",
    "\n",
    "Поездки более 5000 метров совершаются гораздо реже, что указывает на то, что пользователи предпочитают использовать сервис для поездок на средние и короткие дистанции."
   ]
  },
  {
   "cell_type": "markdown",
   "id": "10b9f269",
   "metadata": {},
   "source": [
    "###### продолжительность поездок"
   ]
  },
  {
   "cell_type": "code",
   "execution_count": 26,
   "id": "aa2db20c",
   "metadata": {
    "scrolled": true
   },
   "outputs": [
    {
     "data": {
      "image/png": "[encoded data removed]",
      "text/plain": [
       "<Figure size 720x432 with 1 Axes>"
      ]
     },
     "metadata": {
      "needs_background": "light"
     },
     "output_type": "display_data"
    }
   ],
   "source": [
    "plt.figure(figsize=(10, 6))\n",
    "duration_plot = sns.histplot(rides['duration'], bins=30, kde=True, color='orange')\n",
    "plt.title('Распределение продолжительности поездок')\n",
    "plt.xlabel('Продолжительность (минуты)')\n",
    "plt.ylabel('Количество поездок')\n",
    "plt.show()"
   ]
  },
  {
   "cell_type": "markdown",
   "id": "903fc46c",
   "metadata": {},
   "source": [
    "Гистограмма показывает распределение продолжительности поездок пользователей. Из графика можно сделать следующие выводы:\n",
    "\n",
    "Большинство поездок длятся от 5 до 25 минут. Это указывает на то, что пользователи обычно используют сервис для коротких или средних поездок.\n",
    "\n",
    "Распределение продолжительности поездок имеет ярко выраженный пик в районе 15-20 минут, что может указывать на типичную продолжительность путешествия для большинства пользователей.\n",
    "\n",
    "Очень мало поездок длится более 30 минут, что может указывать на ограничения по времени использования или предпочтения пользователей."
   ]
  },
  {
   "cell_type": "markdown",
   "id": "525c22ce",
   "metadata": {},
   "source": [
    "<div class=\"alert alert-warning\">\n",
    "<h2> Комментарий ревьюера 🤓<a class=\"tocSkip\"> </h2>\n",
    "\n",
    "Можно построить боксплот и использовать метод describe() для расчета описательных статистик."
   ]
  },
  {
   "cell_type": "markdown",
   "id": "7f8c2477",
   "metadata": {},
   "source": [
    "<div class=\"alert alert-block alert-danger\">\n",
    "<h2> Комментарий ревьюера ⛔️<a class=\"tocSkip\"></h2>\n",
    "    <s>\n",
    "Нужно добавить выводы по исследовательскому анализу)"
   ]
  },
  {
   "cell_type": "markdown",
   "id": "a8a28afa",
   "metadata": {},
   "source": [
    "<div class=\"alert alert-info\" style=\"border-radius: 10px; box-shadow: 2px 2px 2px; border: 1px solid; padding: 10px \"> \n",
    "<b>Комментарий студента</b> \n",
    "\n",
    "  Добавил выводы!\n",
    "</div>"
   ]
  },
  {
   "cell_type": "markdown",
   "id": "adf42956",
   "metadata": {},
   "source": [
    "<div class=\"alert alert-success\">\n",
    "<h2> Комментарий ревьюера 😊 v_2 <a class=\"tocSkip\"> </h2>\n",
    "\n",
    "Очень хорошо получилось)"
   ]
  },
  {
   "cell_type": "markdown",
   "id": "4ef51331",
   "metadata": {},
   "source": [
    "#### Шаг 4. Объединение данных"
   ]
  },
  {
   "cell_type": "markdown",
   "id": "2f167a99",
   "metadata": {},
   "source": [
    "##### Объедините данные о пользователях, поездках и подписках в один датафрейм. Для этого воспользуйтесь методом merge()"
   ]
  },
  {
   "cell_type": "code",
   "execution_count": 27,
   "id": "d2cc6cbf",
   "metadata": {},
   "outputs": [
    {
     "data": {
      "text/html": [
       "<div>\n",
       "<style scoped>\n",
       "    .dataframe tbody tr th:only-of-type {\n",
       "        vertical-align: middle;\n",
       "    }\n",
       "\n",
       "    .dataframe tbody tr th {\n",
       "        vertical-align: top;\n",
       "    }\n",
       "\n",
       "    .dataframe thead th {\n",
       "        text-align: right;\n",
       "    }\n",
       "</style>\n",
       "<table border=\"1\" class=\"dataframe\">\n",
       "  <thead>\n",
       "    <tr style=\"text-align: right;\">\n",
       "      <th></th>\n",
       "      <th>user_id</th>\n",
       "      <th>name</th>\n",
       "      <th>age</th>\n",
       "      <th>city</th>\n",
       "      <th>subscription_type</th>\n",
       "      <th>minute_price</th>\n",
       "      <th>start_ride_price</th>\n",
       "      <th>subscription_fee</th>\n",
       "      <th>distance</th>\n",
       "      <th>duration</th>\n",
       "      <th>date</th>\n",
       "      <th>month_n</th>\n",
       "    </tr>\n",
       "  </thead>\n",
       "  <tbody>\n",
       "    <tr>\n",
       "      <th>18045</th>\n",
       "      <td>1533</td>\n",
       "      <td>Степан</td>\n",
       "      <td>22</td>\n",
       "      <td>Краснодар</td>\n",
       "      <td>free</td>\n",
       "      <td>8</td>\n",
       "      <td>50</td>\n",
       "      <td>0</td>\n",
       "      <td>2965.546552</td>\n",
       "      <td>23.687138</td>\n",
       "      <td>2021-03-23</td>\n",
       "      <td>3</td>\n",
       "    </tr>\n",
       "    <tr>\n",
       "      <th>18046</th>\n",
       "      <td>1533</td>\n",
       "      <td>Степан</td>\n",
       "      <td>22</td>\n",
       "      <td>Краснодар</td>\n",
       "      <td>free</td>\n",
       "      <td>8</td>\n",
       "      <td>50</td>\n",
       "      <td>0</td>\n",
       "      <td>3848.116660</td>\n",
       "      <td>27.989727</td>\n",
       "      <td>2021-03-26</td>\n",
       "      <td>3</td>\n",
       "    </tr>\n",
       "    <tr>\n",
       "      <th>18047</th>\n",
       "      <td>1533</td>\n",
       "      <td>Степан</td>\n",
       "      <td>22</td>\n",
       "      <td>Краснодар</td>\n",
       "      <td>free</td>\n",
       "      <td>8</td>\n",
       "      <td>50</td>\n",
       "      <td>0</td>\n",
       "      <td>2500.091900</td>\n",
       "      <td>20.714680</td>\n",
       "      <td>2021-03-26</td>\n",
       "      <td>3</td>\n",
       "    </tr>\n",
       "    <tr>\n",
       "      <th>18048</th>\n",
       "      <td>1533</td>\n",
       "      <td>Степан</td>\n",
       "      <td>22</td>\n",
       "      <td>Краснодар</td>\n",
       "      <td>free</td>\n",
       "      <td>8</td>\n",
       "      <td>50</td>\n",
       "      <td>0</td>\n",
       "      <td>2514.498956</td>\n",
       "      <td>17.429371</td>\n",
       "      <td>2021-04-23</td>\n",
       "      <td>4</td>\n",
       "    </tr>\n",
       "    <tr>\n",
       "      <th>18049</th>\n",
       "      <td>1533</td>\n",
       "      <td>Степан</td>\n",
       "      <td>22</td>\n",
       "      <td>Краснодар</td>\n",
       "      <td>free</td>\n",
       "      <td>8</td>\n",
       "      <td>50</td>\n",
       "      <td>0</td>\n",
       "      <td>1034.998188</td>\n",
       "      <td>6.299996</td>\n",
       "      <td>2021-06-23</td>\n",
       "      <td>6</td>\n",
       "    </tr>\n",
       "    <tr>\n",
       "      <th>18050</th>\n",
       "      <td>1533</td>\n",
       "      <td>Степан</td>\n",
       "      <td>22</td>\n",
       "      <td>Краснодар</td>\n",
       "      <td>free</td>\n",
       "      <td>8</td>\n",
       "      <td>50</td>\n",
       "      <td>0</td>\n",
       "      <td>3574.289098</td>\n",
       "      <td>13.578294</td>\n",
       "      <td>2021-07-20</td>\n",
       "      <td>7</td>\n",
       "    </tr>\n",
       "    <tr>\n",
       "      <th>18051</th>\n",
       "      <td>1533</td>\n",
       "      <td>Степан</td>\n",
       "      <td>22</td>\n",
       "      <td>Краснодар</td>\n",
       "      <td>free</td>\n",
       "      <td>8</td>\n",
       "      <td>50</td>\n",
       "      <td>0</td>\n",
       "      <td>2309.366191</td>\n",
       "      <td>17.773415</td>\n",
       "      <td>2021-07-28</td>\n",
       "      <td>7</td>\n",
       "    </tr>\n",
       "    <tr>\n",
       "      <th>18052</th>\n",
       "      <td>1533</td>\n",
       "      <td>Степан</td>\n",
       "      <td>22</td>\n",
       "      <td>Краснодар</td>\n",
       "      <td>free</td>\n",
       "      <td>8</td>\n",
       "      <td>50</td>\n",
       "      <td>0</td>\n",
       "      <td>2888.863240</td>\n",
       "      <td>15.555453</td>\n",
       "      <td>2021-07-28</td>\n",
       "      <td>7</td>\n",
       "    </tr>\n",
       "    <tr>\n",
       "      <th>18053</th>\n",
       "      <td>1533</td>\n",
       "      <td>Степан</td>\n",
       "      <td>22</td>\n",
       "      <td>Краснодар</td>\n",
       "      <td>free</td>\n",
       "      <td>8</td>\n",
       "      <td>50</td>\n",
       "      <td>0</td>\n",
       "      <td>4581.943632</td>\n",
       "      <td>21.163887</td>\n",
       "      <td>2021-08-27</td>\n",
       "      <td>8</td>\n",
       "    </tr>\n",
       "    <tr>\n",
       "      <th>18054</th>\n",
       "      <td>1533</td>\n",
       "      <td>Степан</td>\n",
       "      <td>22</td>\n",
       "      <td>Краснодар</td>\n",
       "      <td>free</td>\n",
       "      <td>8</td>\n",
       "      <td>50</td>\n",
       "      <td>0</td>\n",
       "      <td>3414.448028</td>\n",
       "      <td>25.657792</td>\n",
       "      <td>2021-11-09</td>\n",
       "      <td>11</td>\n",
       "    </tr>\n",
       "    <tr>\n",
       "      <th>18055</th>\n",
       "      <td>1534</td>\n",
       "      <td>Альберт</td>\n",
       "      <td>25</td>\n",
       "      <td>Краснодар</td>\n",
       "      <td>free</td>\n",
       "      <td>8</td>\n",
       "      <td>50</td>\n",
       "      <td>0</td>\n",
       "      <td>4678.415899</td>\n",
       "      <td>15.228198</td>\n",
       "      <td>2021-01-20</td>\n",
       "      <td>1</td>\n",
       "    </tr>\n",
       "    <tr>\n",
       "      <th>18056</th>\n",
       "      <td>1534</td>\n",
       "      <td>Альберт</td>\n",
       "      <td>25</td>\n",
       "      <td>Краснодар</td>\n",
       "      <td>free</td>\n",
       "      <td>8</td>\n",
       "      <td>50</td>\n",
       "      <td>0</td>\n",
       "      <td>2103.914120</td>\n",
       "      <td>13.425579</td>\n",
       "      <td>2021-02-28</td>\n",
       "      <td>2</td>\n",
       "    </tr>\n",
       "    <tr>\n",
       "      <th>18057</th>\n",
       "      <td>1534</td>\n",
       "      <td>Альберт</td>\n",
       "      <td>25</td>\n",
       "      <td>Краснодар</td>\n",
       "      <td>free</td>\n",
       "      <td>8</td>\n",
       "      <td>50</td>\n",
       "      <td>0</td>\n",
       "      <td>3434.290912</td>\n",
       "      <td>14.366248</td>\n",
       "      <td>2021-04-29</td>\n",
       "      <td>4</td>\n",
       "    </tr>\n",
       "    <tr>\n",
       "      <th>18058</th>\n",
       "      <td>1534</td>\n",
       "      <td>Альберт</td>\n",
       "      <td>25</td>\n",
       "      <td>Краснодар</td>\n",
       "      <td>free</td>\n",
       "      <td>8</td>\n",
       "      <td>50</td>\n",
       "      <td>0</td>\n",
       "      <td>195.447469</td>\n",
       "      <td>6.469074</td>\n",
       "      <td>2021-06-11</td>\n",
       "      <td>6</td>\n",
       "    </tr>\n",
       "    <tr>\n",
       "      <th>18059</th>\n",
       "      <td>1534</td>\n",
       "      <td>Альберт</td>\n",
       "      <td>25</td>\n",
       "      <td>Краснодар</td>\n",
       "      <td>free</td>\n",
       "      <td>8</td>\n",
       "      <td>50</td>\n",
       "      <td>0</td>\n",
       "      <td>3214.021065</td>\n",
       "      <td>18.343604</td>\n",
       "      <td>2021-06-18</td>\n",
       "      <td>6</td>\n",
       "    </tr>\n",
       "    <tr>\n",
       "      <th>18060</th>\n",
       "      <td>1534</td>\n",
       "      <td>Альберт</td>\n",
       "      <td>25</td>\n",
       "      <td>Краснодар</td>\n",
       "      <td>free</td>\n",
       "      <td>8</td>\n",
       "      <td>50</td>\n",
       "      <td>0</td>\n",
       "      <td>3644.708038</td>\n",
       "      <td>20.289416</td>\n",
       "      <td>2021-08-08</td>\n",
       "      <td>8</td>\n",
       "    </tr>\n",
       "    <tr>\n",
       "      <th>18061</th>\n",
       "      <td>1534</td>\n",
       "      <td>Альберт</td>\n",
       "      <td>25</td>\n",
       "      <td>Краснодар</td>\n",
       "      <td>free</td>\n",
       "      <td>8</td>\n",
       "      <td>50</td>\n",
       "      <td>0</td>\n",
       "      <td>3977.744996</td>\n",
       "      <td>26.916544</td>\n",
       "      <td>2021-08-20</td>\n",
       "      <td>8</td>\n",
       "    </tr>\n",
       "    <tr>\n",
       "      <th>18062</th>\n",
       "      <td>1534</td>\n",
       "      <td>Альберт</td>\n",
       "      <td>25</td>\n",
       "      <td>Краснодар</td>\n",
       "      <td>free</td>\n",
       "      <td>8</td>\n",
       "      <td>50</td>\n",
       "      <td>0</td>\n",
       "      <td>4928.173852</td>\n",
       "      <td>22.560373</td>\n",
       "      <td>2021-09-13</td>\n",
       "      <td>9</td>\n",
       "    </tr>\n",
       "    <tr>\n",
       "      <th>18063</th>\n",
       "      <td>1534</td>\n",
       "      <td>Альберт</td>\n",
       "      <td>25</td>\n",
       "      <td>Краснодар</td>\n",
       "      <td>free</td>\n",
       "      <td>8</td>\n",
       "      <td>50</td>\n",
       "      <td>0</td>\n",
       "      <td>3781.098080</td>\n",
       "      <td>19.822962</td>\n",
       "      <td>2021-11-04</td>\n",
       "      <td>11</td>\n",
       "    </tr>\n",
       "    <tr>\n",
       "      <th>18064</th>\n",
       "      <td>1534</td>\n",
       "      <td>Альберт</td>\n",
       "      <td>25</td>\n",
       "      <td>Краснодар</td>\n",
       "      <td>free</td>\n",
       "      <td>8</td>\n",
       "      <td>50</td>\n",
       "      <td>0</td>\n",
       "      <td>2840.423057</td>\n",
       "      <td>21.409799</td>\n",
       "      <td>2021-11-16</td>\n",
       "      <td>11</td>\n",
       "    </tr>\n",
       "    <tr>\n",
       "      <th>18065</th>\n",
       "      <td>1534</td>\n",
       "      <td>Альберт</td>\n",
       "      <td>25</td>\n",
       "      <td>Краснодар</td>\n",
       "      <td>free</td>\n",
       "      <td>8</td>\n",
       "      <td>50</td>\n",
       "      <td>0</td>\n",
       "      <td>3826.185507</td>\n",
       "      <td>18.435051</td>\n",
       "      <td>2021-11-18</td>\n",
       "      <td>11</td>\n",
       "    </tr>\n",
       "    <tr>\n",
       "      <th>18066</th>\n",
       "      <td>1534</td>\n",
       "      <td>Альберт</td>\n",
       "      <td>25</td>\n",
       "      <td>Краснодар</td>\n",
       "      <td>free</td>\n",
       "      <td>8</td>\n",
       "      <td>50</td>\n",
       "      <td>0</td>\n",
       "      <td>2902.308661</td>\n",
       "      <td>16.674362</td>\n",
       "      <td>2021-11-27</td>\n",
       "      <td>11</td>\n",
       "    </tr>\n",
       "    <tr>\n",
       "      <th>18067</th>\n",
       "      <td>1534</td>\n",
       "      <td>Альберт</td>\n",
       "      <td>25</td>\n",
       "      <td>Краснодар</td>\n",
       "      <td>free</td>\n",
       "      <td>8</td>\n",
       "      <td>50</td>\n",
       "      <td>0</td>\n",
       "      <td>2371.711192</td>\n",
       "      <td>15.893917</td>\n",
       "      <td>2021-12-29</td>\n",
       "      <td>12</td>\n",
       "    </tr>\n",
       "  </tbody>\n",
       "</table>\n",
       "</div>"
      ],
      "text/plain": [
       "       user_id     name  age       city subscription_type  minute_price  \\\n",
       "18045     1533   Степан   22  Краснодар              free             8   \n",
       "18046     1533   Степан   22  Краснодар              free             8   \n",
       "18047     1533   Степан   22  Краснодар              free             8   \n",
       "18048     1533   Степан   22  Краснодар              free             8   \n",
       "18049     1533   Степан   22  Краснодар              free             8   \n",
       "18050     1533   Степан   22  Краснодар              free             8   \n",
       "18051     1533   Степан   22  Краснодар              free             8   \n",
       "18052     1533   Степан   22  Краснодар              free             8   \n",
       "18053     1533   Степан   22  Краснодар              free             8   \n",
       "18054     1533   Степан   22  Краснодар              free             8   \n",
       "18055     1534  Альберт   25  Краснодар              free             8   \n",
       "18056     1534  Альберт   25  Краснодар              free             8   \n",
       "18057     1534  Альберт   25  Краснодар              free             8   \n",
       "18058     1534  Альберт   25  Краснодар              free             8   \n",
       "18059     1534  Альберт   25  Краснодар              free             8   \n",
       "18060     1534  Альберт   25  Краснодар              free             8   \n",
       "18061     1534  Альберт   25  Краснодар              free             8   \n",
       "18062     1534  Альберт   25  Краснодар              free             8   \n",
       "18063     1534  Альберт   25  Краснодар              free             8   \n",
       "18064     1534  Альберт   25  Краснодар              free             8   \n",
       "18065     1534  Альберт   25  Краснодар              free             8   \n",
       "18066     1534  Альберт   25  Краснодар              free             8   \n",
       "18067     1534  Альберт   25  Краснодар              free             8   \n",
       "\n",
       "       start_ride_price  subscription_fee     distance   duration       date  \\\n",
       "18045                50                 0  2965.546552  23.687138 2021-03-23   \n",
       "18046                50                 0  3848.116660  27.989727 2021-03-26   \n",
       "18047                50                 0  2500.091900  20.714680 2021-03-26   \n",
       "18048                50                 0  2514.498956  17.429371 2021-04-23   \n",
       "18049                50                 0  1034.998188   6.299996 2021-06-23   \n",
       "18050                50                 0  3574.289098  13.578294 2021-07-20   \n",
       "18051                50                 0  2309.366191  17.773415 2021-07-28   \n",
       "18052                50                 0  2888.863240  15.555453 2021-07-28   \n",
       "18053                50                 0  4581.943632  21.163887 2021-08-27   \n",
       "18054                50                 0  3414.448028  25.657792 2021-11-09   \n",
       "18055                50                 0  4678.415899  15.228198 2021-01-20   \n",
       "18056                50                 0  2103.914120  13.425579 2021-02-28   \n",
       "18057                50                 0  3434.290912  14.366248 2021-04-29   \n",
       "18058                50                 0   195.447469   6.469074 2021-06-11   \n",
       "18059                50                 0  3214.021065  18.343604 2021-06-18   \n",
       "18060                50                 0  3644.708038  20.289416 2021-08-08   \n",
       "18061                50                 0  3977.744996  26.916544 2021-08-20   \n",
       "18062                50                 0  4928.173852  22.560373 2021-09-13   \n",
       "18063                50                 0  3781.098080  19.822962 2021-11-04   \n",
       "18064                50                 0  2840.423057  21.409799 2021-11-16   \n",
       "18065                50                 0  3826.185507  18.435051 2021-11-18   \n",
       "18066                50                 0  2902.308661  16.674362 2021-11-27   \n",
       "18067                50                 0  2371.711192  15.893917 2021-12-29   \n",
       "\n",
       "       month_n  \n",
       "18045        3  \n",
       "18046        3  \n",
       "18047        3  \n",
       "18048        4  \n",
       "18049        6  \n",
       "18050        7  \n",
       "18051        7  \n",
       "18052        7  \n",
       "18053        8  \n",
       "18054       11  \n",
       "18055        1  \n",
       "18056        2  \n",
       "18057        4  \n",
       "18058        6  \n",
       "18059        6  \n",
       "18060        8  \n",
       "18061        8  \n",
       "18062        9  \n",
       "18063       11  \n",
       "18064       11  \n",
       "18065       11  \n",
       "18066       11  \n",
       "18067       12  "
      ]
     },
     "execution_count": 27,
     "metadata": {},
     "output_type": "execute_result"
    }
   ],
   "source": [
    "users_subscriptions = pd.merge(users_clean, subscriptions, on='subscription_type', how='left')\n",
    "\n",
    "data = pd.merge(users_subscriptions, rides, on='user_id', how='left')\n",
    "\n",
    "data.tail(23)"
   ]
  },
  {
   "cell_type": "markdown",
   "id": "e8cfc15c",
   "metadata": {},
   "source": [
    "<div class=\"alert alert-block alert-danger\">\n",
    "<h2> Комментарий ревьюера ⛔️<a class=\"tocSkip\"></h2>\n",
    "   <s>\n",
    "Необходимо провести проверку размерности датафрейма после объединения и проверку на пропуски в объединенном датасете. \n",
    "    \n",
    "Пропустили пункт:\n",
    "    \n",
    "    4.2 Создайте ещё два датафрейма из датафрейма, созданного на этапе 4.1:\n",
    "        c данными о пользователях без подписки;\n",
    "        с данными о пользователях с подпиской.\n",
    "    4.3 Визуализируйте информацию о расстоянии и времени поездок для пользователей обеих категорий.  "
   ]
  },
  {
   "cell_type": "markdown",
   "id": "41a9e82f",
   "metadata": {},
   "source": [
    "<div class=\"alert alert-info\" style=\"border-radius: 10px; box-shadow: 2px 2px 2px; border: 1px solid; padding: 10px \"> \n",
    "<b>Комментарий студента</b> \n",
    "\n",
    "  Добавил, спасибо!\n",
    "</div>"
   ]
  },
  {
   "cell_type": "markdown",
   "id": "d8899d44",
   "metadata": {},
   "source": [
    "<div class=\"alert alert-success\">\n",
    "<h2> Комментарий ревьюера 😊 v_2 <a class=\"tocSkip\"> </h2>\n",
    "\n",
    "Отлично , только проверку на пропуски нужно добавить)"
   ]
  },
  {
   "cell_type": "markdown",
   "id": "49b54acf",
   "metadata": {},
   "source": [
    "##### Создайте ещё два датафрейма из датафрейма, созданного на этапе 4.1: c данными о пользователях без подписки; с данными о пользователях с подпиской."
   ]
  },
  {
   "cell_type": "code",
   "execution_count": 28,
   "id": "85b29985",
   "metadata": {},
   "outputs": [
    {
     "data": {
      "text/html": [
       "<div>\n",
       "<style scoped>\n",
       "    .dataframe tbody tr th:only-of-type {\n",
       "        vertical-align: middle;\n",
       "    }\n",
       "\n",
       "    .dataframe tbody tr th {\n",
       "        vertical-align: top;\n",
       "    }\n",
       "\n",
       "    .dataframe thead th {\n",
       "        text-align: right;\n",
       "    }\n",
       "</style>\n",
       "<table border=\"1\" class=\"dataframe\">\n",
       "  <thead>\n",
       "    <tr style=\"text-align: right;\">\n",
       "      <th></th>\n",
       "      <th>user_id</th>\n",
       "      <th>name</th>\n",
       "      <th>age</th>\n",
       "      <th>city</th>\n",
       "      <th>subscription_type</th>\n",
       "      <th>minute_price</th>\n",
       "      <th>start_ride_price</th>\n",
       "      <th>subscription_fee</th>\n",
       "      <th>distance</th>\n",
       "      <th>duration</th>\n",
       "      <th>date</th>\n",
       "      <th>month_n</th>\n",
       "    </tr>\n",
       "  </thead>\n",
       "  <tbody>\n",
       "    <tr>\n",
       "      <th>0</th>\n",
       "      <td>1</td>\n",
       "      <td>Кира</td>\n",
       "      <td>22</td>\n",
       "      <td>Тюмень</td>\n",
       "      <td>ultra</td>\n",
       "      <td>6</td>\n",
       "      <td>0</td>\n",
       "      <td>199</td>\n",
       "      <td>4409.919140</td>\n",
       "      <td>25.599769</td>\n",
       "      <td>2021-01-01</td>\n",
       "      <td>1</td>\n",
       "    </tr>\n",
       "    <tr>\n",
       "      <th>1</th>\n",
       "      <td>1</td>\n",
       "      <td>Кира</td>\n",
       "      <td>22</td>\n",
       "      <td>Тюмень</td>\n",
       "      <td>ultra</td>\n",
       "      <td>6</td>\n",
       "      <td>0</td>\n",
       "      <td>199</td>\n",
       "      <td>2617.592153</td>\n",
       "      <td>15.816871</td>\n",
       "      <td>2021-01-18</td>\n",
       "      <td>1</td>\n",
       "    </tr>\n",
       "    <tr>\n",
       "      <th>2</th>\n",
       "      <td>1</td>\n",
       "      <td>Кира</td>\n",
       "      <td>22</td>\n",
       "      <td>Тюмень</td>\n",
       "      <td>ultra</td>\n",
       "      <td>6</td>\n",
       "      <td>0</td>\n",
       "      <td>199</td>\n",
       "      <td>754.159807</td>\n",
       "      <td>6.232113</td>\n",
       "      <td>2021-04-20</td>\n",
       "      <td>4</td>\n",
       "    </tr>\n",
       "    <tr>\n",
       "      <th>3</th>\n",
       "      <td>1</td>\n",
       "      <td>Кира</td>\n",
       "      <td>22</td>\n",
       "      <td>Тюмень</td>\n",
       "      <td>ultra</td>\n",
       "      <td>6</td>\n",
       "      <td>0</td>\n",
       "      <td>199</td>\n",
       "      <td>2694.783254</td>\n",
       "      <td>18.511000</td>\n",
       "      <td>2021-08-11</td>\n",
       "      <td>8</td>\n",
       "    </tr>\n",
       "    <tr>\n",
       "      <th>4</th>\n",
       "      <td>1</td>\n",
       "      <td>Кира</td>\n",
       "      <td>22</td>\n",
       "      <td>Тюмень</td>\n",
       "      <td>ultra</td>\n",
       "      <td>6</td>\n",
       "      <td>0</td>\n",
       "      <td>199</td>\n",
       "      <td>4028.687306</td>\n",
       "      <td>26.265803</td>\n",
       "      <td>2021-08-28</td>\n",
       "      <td>8</td>\n",
       "    </tr>\n",
       "  </tbody>\n",
       "</table>\n",
       "</div>"
      ],
      "text/plain": [
       "   user_id  name  age    city subscription_type  minute_price  \\\n",
       "0        1  Кира   22  Тюмень             ultra             6   \n",
       "1        1  Кира   22  Тюмень             ultra             6   \n",
       "2        1  Кира   22  Тюмень             ultra             6   \n",
       "3        1  Кира   22  Тюмень             ultra             6   \n",
       "4        1  Кира   22  Тюмень             ultra             6   \n",
       "\n",
       "   start_ride_price  subscription_fee     distance   duration       date  \\\n",
       "0                 0               199  4409.919140  25.599769 2021-01-01   \n",
       "1                 0               199  2617.592153  15.816871 2021-01-18   \n",
       "2                 0               199   754.159807   6.232113 2021-04-20   \n",
       "3                 0               199  2694.783254  18.511000 2021-08-11   \n",
       "4                 0               199  4028.687306  26.265803 2021-08-28   \n",
       "\n",
       "   month_n  \n",
       "0        1  \n",
       "1        1  \n",
       "2        4  \n",
       "3        8  \n",
       "4        8  "
      ]
     },
     "metadata": {},
     "output_type": "display_data"
    },
    {
     "data": {
      "text/html": [
       "<div>\n",
       "<style scoped>\n",
       "    .dataframe tbody tr th:only-of-type {\n",
       "        vertical-align: middle;\n",
       "    }\n",
       "\n",
       "    .dataframe tbody tr th {\n",
       "        vertical-align: top;\n",
       "    }\n",
       "\n",
       "    .dataframe thead th {\n",
       "        text-align: right;\n",
       "    }\n",
       "</style>\n",
       "<table border=\"1\" class=\"dataframe\">\n",
       "  <thead>\n",
       "    <tr style=\"text-align: right;\">\n",
       "      <th></th>\n",
       "      <th>user_id</th>\n",
       "      <th>name</th>\n",
       "      <th>age</th>\n",
       "      <th>city</th>\n",
       "      <th>subscription_type</th>\n",
       "      <th>minute_price</th>\n",
       "      <th>start_ride_price</th>\n",
       "      <th>subscription_fee</th>\n",
       "      <th>distance</th>\n",
       "      <th>duration</th>\n",
       "      <th>date</th>\n",
       "      <th>month_n</th>\n",
       "    </tr>\n",
       "  </thead>\n",
       "  <tbody>\n",
       "    <tr>\n",
       "      <th>6500</th>\n",
       "      <td>700</td>\n",
       "      <td>Айдар</td>\n",
       "      <td>22</td>\n",
       "      <td>Омск</td>\n",
       "      <td>free</td>\n",
       "      <td>8</td>\n",
       "      <td>50</td>\n",
       "      <td>0</td>\n",
       "      <td>2515.690719</td>\n",
       "      <td>14.944286</td>\n",
       "      <td>2021-01-02</td>\n",
       "      <td>1</td>\n",
       "    </tr>\n",
       "    <tr>\n",
       "      <th>6501</th>\n",
       "      <td>700</td>\n",
       "      <td>Айдар</td>\n",
       "      <td>22</td>\n",
       "      <td>Омск</td>\n",
       "      <td>free</td>\n",
       "      <td>8</td>\n",
       "      <td>50</td>\n",
       "      <td>0</td>\n",
       "      <td>846.932642</td>\n",
       "      <td>16.234663</td>\n",
       "      <td>2021-02-01</td>\n",
       "      <td>2</td>\n",
       "    </tr>\n",
       "    <tr>\n",
       "      <th>6502</th>\n",
       "      <td>700</td>\n",
       "      <td>Айдар</td>\n",
       "      <td>22</td>\n",
       "      <td>Омск</td>\n",
       "      <td>free</td>\n",
       "      <td>8</td>\n",
       "      <td>50</td>\n",
       "      <td>0</td>\n",
       "      <td>4004.434142</td>\n",
       "      <td>20.016628</td>\n",
       "      <td>2021-02-04</td>\n",
       "      <td>2</td>\n",
       "    </tr>\n",
       "    <tr>\n",
       "      <th>6503</th>\n",
       "      <td>700</td>\n",
       "      <td>Айдар</td>\n",
       "      <td>22</td>\n",
       "      <td>Омск</td>\n",
       "      <td>free</td>\n",
       "      <td>8</td>\n",
       "      <td>50</td>\n",
       "      <td>0</td>\n",
       "      <td>1205.911290</td>\n",
       "      <td>9.782872</td>\n",
       "      <td>2021-02-10</td>\n",
       "      <td>2</td>\n",
       "    </tr>\n",
       "    <tr>\n",
       "      <th>6504</th>\n",
       "      <td>700</td>\n",
       "      <td>Айдар</td>\n",
       "      <td>22</td>\n",
       "      <td>Омск</td>\n",
       "      <td>free</td>\n",
       "      <td>8</td>\n",
       "      <td>50</td>\n",
       "      <td>0</td>\n",
       "      <td>3047.379435</td>\n",
       "      <td>17.427673</td>\n",
       "      <td>2021-02-14</td>\n",
       "      <td>2</td>\n",
       "    </tr>\n",
       "  </tbody>\n",
       "</table>\n",
       "</div>"
      ],
      "text/plain": [
       "      user_id   name  age  city subscription_type  minute_price  \\\n",
       "6500      700  Айдар   22  Омск              free             8   \n",
       "6501      700  Айдар   22  Омск              free             8   \n",
       "6502      700  Айдар   22  Омск              free             8   \n",
       "6503      700  Айдар   22  Омск              free             8   \n",
       "6504      700  Айдар   22  Омск              free             8   \n",
       "\n",
       "      start_ride_price  subscription_fee     distance   duration       date  \\\n",
       "6500                50                 0  2515.690719  14.944286 2021-01-02   \n",
       "6501                50                 0   846.932642  16.234663 2021-02-01   \n",
       "6502                50                 0  4004.434142  20.016628 2021-02-04   \n",
       "6503                50                 0  1205.911290   9.782872 2021-02-10   \n",
       "6504                50                 0  3047.379435  17.427673 2021-02-14   \n",
       "\n",
       "      month_n  \n",
       "6500        1  \n",
       "6501        2  \n",
       "6502        2  \n",
       "6503        2  \n",
       "6504        2  "
      ]
     },
     "execution_count": 28,
     "metadata": {},
     "output_type": "execute_result"
    }
   ],
   "source": [
    "data_with_sub = data[data['subscription_type'] == 'ultra']\n",
    "data_without_sub = data[data['subscription_type'] == 'free']\n",
    "display(data_with_sub.head())\n",
    "data_without_sub.head()"
   ]
  },
  {
   "cell_type": "markdown",
   "id": "e53ac1fc",
   "metadata": {},
   "source": [
    "##### Визуализируйте информацию о расстоянии и времени поездок для пользователей обеих категорий.  "
   ]
  },
  {
   "cell_type": "code",
   "execution_count": 29,
   "id": "88ffd9b2",
   "metadata": {
    "scrolled": true
   },
   "outputs": [
    {
     "data": {
      "image/png": "[encoded data removed]",
      "text/plain": [
       "<Figure size 864x432 with 2 Axes>"
      ]
     },
     "metadata": {
      "needs_background": "light"
     },
     "output_type": "display_data"
    }
   ],
   "source": [
    "# Построение гистограмм для расстояний\n",
    "plt.figure(figsize=(12, 6))\n",
    "plt.subplot(1, 2, 1)\n",
    "sns.histplot(data_with_sub['distance'], color='blue', kde=True, label='Ultra')\n",
    "sns.histplot(data_without_sub['distance'], color='red', kde=True, label='Free')\n",
    "plt.title('Распределение расстояний поездок')\n",
    "plt.xlabel('Расстояние')\n",
    "plt.ylabel('Частота')\n",
    "plt.legend();\n",
    "\n",
    "# Построение гистограмм для времени\n",
    "plt.subplot(1, 2, 2)\n",
    "sns.histplot(data_with_sub['duration'], color='blue', kde=True, label='Ultra')\n",
    "sns.histplot(data_without_sub['duration'], color='red', kde=True, label='Free')\n",
    "plt.title('Распределение времени поездок')\n",
    "plt.xlabel('Время')\n",
    "plt.ylabel('Частота')\n",
    "plt.legend();\n",
    "\n",
    "plt.tight_layout()\n",
    "plt.show()"
   ]
  },
  {
   "cell_type": "markdown",
   "id": "24d1fcd7",
   "metadata": {},
   "source": [
    "**Распределение расстояний поездок:**\n",
    "\n",
    "  1) Пользователи с подпиской Ultra, в среднем, совершают поездки на большие расстояния по сравнению с пользователями Free. Это видно по смещению синей гистограммы вправо.\n",
    "  \n",
    "  2) Большинство поездок пользователей Free имеют меньшую длину, что указывает на их предпочтение более коротких поездок.\n",
    "\n",
    "  3) Распределение для обеих категорий показывает пик около нуля, что может указывать на наличие коротких или неудачных поездок.\n",
    "\n",
    "**Распределение времени поездок:**\n",
    "\n",
    "  1) Распределения времени поездок для обеих категорий пользователей похожи, однако пользователи с подпиской Ultra также склонны к более долгим поездкам, что подтверждается легким смещением синей гистограммы вправо.\n",
    "  \n",
    "  2) Обе категории имеют схожие пики частотности около начальных точек, что указывает на популярность коротких поездок у всех пользователей."
   ]
  },
  {
   "cell_type": "markdown",
   "id": "8bf19794",
   "metadata": {},
   "source": [
    "<div class=\"alert alert-success\">\n",
    "<h2> Комментарий ревьюера 😊 v_2 <a class=\"tocSkip\"> </h2>\n",
    "\n",
    "Молодец, что обращаешь внимание на сходства или различия профилей пользователей с платной и бесплатной подписками."
   ]
  },
  {
   "cell_type": "markdown",
   "id": "402d620f",
   "metadata": {},
   "source": [
    "#### Шаг 5. Подсчёт выручки"
   ]
  },
  {
   "cell_type": "markdown",
   "id": "1abfcc39",
   "metadata": {},
   "source": [
    "##### Создайте датафрейм с агрегированными данными о поездках на основе датафрейма с объединёнными данными из шага 4: найдите суммарное расстояние, количество поездок и суммарное время для каждого пользователя за каждый месяц."
   ]
  },
  {
   "cell_type": "code",
   "execution_count": 30,
   "id": "53049e0a",
   "metadata": {},
   "outputs": [
    {
     "data": {
      "text/html": [
       "<div>\n",
       "<style scoped>\n",
       "    .dataframe tbody tr th:only-of-type {\n",
       "        vertical-align: middle;\n",
       "    }\n",
       "\n",
       "    .dataframe tbody tr th {\n",
       "        vertical-align: top;\n",
       "    }\n",
       "\n",
       "    .dataframe thead th {\n",
       "        text-align: right;\n",
       "    }\n",
       "</style>\n",
       "<table border=\"1\" class=\"dataframe\">\n",
       "  <thead>\n",
       "    <tr style=\"text-align: right;\">\n",
       "      <th></th>\n",
       "      <th>user_id</th>\n",
       "      <th>month_n</th>\n",
       "      <th>subscription_type</th>\n",
       "      <th>total_distance</th>\n",
       "      <th>total_trips</th>\n",
       "      <th>total_duration</th>\n",
       "    </tr>\n",
       "  </thead>\n",
       "  <tbody>\n",
       "    <tr>\n",
       "      <th>0</th>\n",
       "      <td>1</td>\n",
       "      <td>1</td>\n",
       "      <td>ultra</td>\n",
       "      <td>7027.511294</td>\n",
       "      <td>2</td>\n",
       "      <td>42.0</td>\n",
       "    </tr>\n",
       "    <tr>\n",
       "      <th>1</th>\n",
       "      <td>1</td>\n",
       "      <td>4</td>\n",
       "      <td>ultra</td>\n",
       "      <td>754.159807</td>\n",
       "      <td>1</td>\n",
       "      <td>7.0</td>\n",
       "    </tr>\n",
       "    <tr>\n",
       "      <th>2</th>\n",
       "      <td>1</td>\n",
       "      <td>8</td>\n",
       "      <td>ultra</td>\n",
       "      <td>6723.470560</td>\n",
       "      <td>2</td>\n",
       "      <td>46.0</td>\n",
       "    </tr>\n",
       "    <tr>\n",
       "      <th>3</th>\n",
       "      <td>1</td>\n",
       "      <td>10</td>\n",
       "      <td>ultra</td>\n",
       "      <td>5809.911100</td>\n",
       "      <td>2</td>\n",
       "      <td>32.0</td>\n",
       "    </tr>\n",
       "    <tr>\n",
       "      <th>4</th>\n",
       "      <td>1</td>\n",
       "      <td>11</td>\n",
       "      <td>ultra</td>\n",
       "      <td>7003.499363</td>\n",
       "      <td>3</td>\n",
       "      <td>56.0</td>\n",
       "    </tr>\n",
       "  </tbody>\n",
       "</table>\n",
       "</div>"
      ],
      "text/plain": [
       "   user_id  month_n subscription_type  total_distance  total_trips  \\\n",
       "0        1        1             ultra     7027.511294            2   \n",
       "1        1        4             ultra      754.159807            1   \n",
       "2        1        8             ultra     6723.470560            2   \n",
       "3        1       10             ultra     5809.911100            2   \n",
       "4        1       11             ultra     7003.499363            3   \n",
       "\n",
       "   total_duration  \n",
       "0            42.0  \n",
       "1             7.0  \n",
       "2            46.0  \n",
       "3            32.0  \n",
       "4            56.0  "
      ]
     },
     "execution_count": 30,
     "metadata": {},
     "output_type": "execute_result"
    }
   ],
   "source": [
    "data['rounded_duration'] = data['duration'].apply(np.ceil)\n",
    "agg_data = data.groupby(['user_id', 'month_n', 'subscription_type']).agg(\n",
    "    total_distance=('distance', 'sum'),\n",
    "    total_trips=('distance', 'count'), \n",
    "    total_duration=('rounded_duration', 'sum')\n",
    ").reset_index()\n",
    "\n",
    "agg_data.head()"
   ]
  },
  {
   "cell_type": "markdown",
   "id": "a36bb6c2",
   "metadata": {},
   "source": [
    "<div class=\"alert alert-warning\">\n",
    "<h2> Комментарий ревьюера 🤓<a class=\"tocSkip\"> </h2>\n",
    "    \n",
    "Чтобы сохранить столбцы с показателями для расчета выручки, можно использовать для этих значений функции min или first"
   ]
  },
  {
   "cell_type": "markdown",
   "id": "bb0bcca7",
   "metadata": {},
   "source": [
    "<div class=\"alert alert-info\" style=\"border-radius: 10px; box-shadow: 2px 2px 2px; border: 1px solid; padding: 10px \"> \n",
    "<b>Комментарий студента</b> \n",
    "\n",
    "  Нужна помощь, извини, не совсем понял о чем Ты(((\n",
    "</div>"
   ]
  },
  {
   "cell_type": "markdown",
   "id": "a3c967fa",
   "metadata": {},
   "source": [
    "<div class=\"alert alert-warning\">\n",
    "<h2> Комментарий ревьюера 🤓 v_2 <a class=\"tocSkip\"> </h2>\n",
    "    \n",
    "Добавить в столбцы данные о поездках, указав их в agg()."
   ]
  },
  {
   "cell_type": "markdown",
   "id": "e8504b0a",
   "metadata": {},
   "source": [
    "##### В этот же датафрейм добавьте столбец с помесячной выручкой, которую принёс каждый пользователь. Для этого обратитесь к информации об условиях оплаты для подписчиков и тех, у кого нет подписки. Продолжительность каждой поездки в каждой строке исходного датафрейма для подсчёта стоимости округляется до следующего целого числа: например, значения 25.3, 25.5 и 26.0 должны быть преобразованы к 26."
   ]
  },
  {
   "cell_type": "code",
   "execution_count": 31,
   "id": "19d0db8e",
   "metadata": {},
   "outputs": [],
   "source": [
    "def count_revenue(row):\n",
    "    if row['subscription_type'] == 'ultra':\n",
    "        return 6 * row['total_duration'] + 199\n",
    "    elif row['subscription_type'] == 'free':\n",
    "        return 8 * row['total_duration'] + 50 * row['total_trips']\n",
    "    else:\n",
    "        return '-'"
   ]
  },
  {
   "cell_type": "markdown",
   "id": "739bb4b7",
   "metadata": {},
   "source": [
    "<s>agg_data['total_duration'] = np.ceil(agg_data['total_duration'])"
   ]
  },
  {
   "cell_type": "code",
   "execution_count": 32,
   "id": "4b3f333f",
   "metadata": {},
   "outputs": [
    {
     "data": {
      "text/plain": [
       "0     451.0\n",
       "1     241.0\n",
       "2     475.0\n",
       "3     391.0\n",
       "4     535.0\n",
       "5     367.0\n",
       "6     577.0\n",
       "7     439.0\n",
       "8     283.0\n",
       "9     487.0\n",
       "10    241.0\n",
       "11    313.0\n",
       "12    271.0\n",
       "13    277.0\n",
       "14    433.0\n",
       "15    325.0\n",
       "16    577.0\n",
       "17    601.0\n",
       "18    337.0\n",
       "19    277.0\n",
       "Name: revenue_per_month, dtype: float64"
      ]
     },
     "execution_count": 32,
     "metadata": {},
     "output_type": "execute_result"
    }
   ],
   "source": [
    "agg_data['revenue_per_month'] = agg_data.apply(count_revenue, axis=1)\n",
    "agg_data['revenue_per_month'].head(20)"
   ]
  },
  {
   "cell_type": "code",
   "execution_count": 33,
   "id": "199c6a59",
   "metadata": {},
   "outputs": [
    {
     "data": {
      "text/html": [
       "<div>\n",
       "<style scoped>\n",
       "    .dataframe tbody tr th:only-of-type {\n",
       "        vertical-align: middle;\n",
       "    }\n",
       "\n",
       "    .dataframe tbody tr th {\n",
       "        vertical-align: top;\n",
       "    }\n",
       "\n",
       "    .dataframe thead th {\n",
       "        text-align: right;\n",
       "    }\n",
       "</style>\n",
       "<table border=\"1\" class=\"dataframe\">\n",
       "  <thead>\n",
       "    <tr style=\"text-align: right;\">\n",
       "      <th></th>\n",
       "      <th>user_id</th>\n",
       "      <th>month_n</th>\n",
       "      <th>subscription_type</th>\n",
       "      <th>total_distance</th>\n",
       "      <th>total_trips</th>\n",
       "      <th>total_duration</th>\n",
       "      <th>revenue_per_month</th>\n",
       "    </tr>\n",
       "  </thead>\n",
       "  <tbody>\n",
       "    <tr>\n",
       "      <th>0</th>\n",
       "      <td>1</td>\n",
       "      <td>1</td>\n",
       "      <td>ultra</td>\n",
       "      <td>7027.511294</td>\n",
       "      <td>2</td>\n",
       "      <td>42.0</td>\n",
       "      <td>451.0</td>\n",
       "    </tr>\n",
       "    <tr>\n",
       "      <th>1</th>\n",
       "      <td>1</td>\n",
       "      <td>4</td>\n",
       "      <td>ultra</td>\n",
       "      <td>754.159807</td>\n",
       "      <td>1</td>\n",
       "      <td>7.0</td>\n",
       "      <td>241.0</td>\n",
       "    </tr>\n",
       "    <tr>\n",
       "      <th>2</th>\n",
       "      <td>1</td>\n",
       "      <td>8</td>\n",
       "      <td>ultra</td>\n",
       "      <td>6723.470560</td>\n",
       "      <td>2</td>\n",
       "      <td>46.0</td>\n",
       "      <td>475.0</td>\n",
       "    </tr>\n",
       "    <tr>\n",
       "      <th>3</th>\n",
       "      <td>1</td>\n",
       "      <td>10</td>\n",
       "      <td>ultra</td>\n",
       "      <td>5809.911100</td>\n",
       "      <td>2</td>\n",
       "      <td>32.0</td>\n",
       "      <td>391.0</td>\n",
       "    </tr>\n",
       "    <tr>\n",
       "      <th>4</th>\n",
       "      <td>1</td>\n",
       "      <td>11</td>\n",
       "      <td>ultra</td>\n",
       "      <td>7003.499363</td>\n",
       "      <td>3</td>\n",
       "      <td>56.0</td>\n",
       "      <td>535.0</td>\n",
       "    </tr>\n",
       "    <tr>\n",
       "      <th>...</th>\n",
       "      <td>...</td>\n",
       "      <td>...</td>\n",
       "      <td>...</td>\n",
       "      <td>...</td>\n",
       "      <td>...</td>\n",
       "      <td>...</td>\n",
       "      <td>...</td>\n",
       "    </tr>\n",
       "    <tr>\n",
       "      <th>11326</th>\n",
       "      <td>1534</td>\n",
       "      <td>6</td>\n",
       "      <td>free</td>\n",
       "      <td>3409.468534</td>\n",
       "      <td>2</td>\n",
       "      <td>26.0</td>\n",
       "      <td>308.0</td>\n",
       "    </tr>\n",
       "    <tr>\n",
       "      <th>11327</th>\n",
       "      <td>1534</td>\n",
       "      <td>8</td>\n",
       "      <td>free</td>\n",
       "      <td>7622.453034</td>\n",
       "      <td>2</td>\n",
       "      <td>48.0</td>\n",
       "      <td>484.0</td>\n",
       "    </tr>\n",
       "    <tr>\n",
       "      <th>11328</th>\n",
       "      <td>1534</td>\n",
       "      <td>9</td>\n",
       "      <td>free</td>\n",
       "      <td>4928.173852</td>\n",
       "      <td>1</td>\n",
       "      <td>23.0</td>\n",
       "      <td>234.0</td>\n",
       "    </tr>\n",
       "    <tr>\n",
       "      <th>11329</th>\n",
       "      <td>1534</td>\n",
       "      <td>11</td>\n",
       "      <td>free</td>\n",
       "      <td>13350.015305</td>\n",
       "      <td>4</td>\n",
       "      <td>78.0</td>\n",
       "      <td>824.0</td>\n",
       "    </tr>\n",
       "    <tr>\n",
       "      <th>11330</th>\n",
       "      <td>1534</td>\n",
       "      <td>12</td>\n",
       "      <td>free</td>\n",
       "      <td>2371.711192</td>\n",
       "      <td>1</td>\n",
       "      <td>16.0</td>\n",
       "      <td>178.0</td>\n",
       "    </tr>\n",
       "  </tbody>\n",
       "</table>\n",
       "<p>11331 rows × 7 columns</p>\n",
       "</div>"
      ],
      "text/plain": [
       "       user_id  month_n subscription_type  total_distance  total_trips  \\\n",
       "0            1        1             ultra     7027.511294            2   \n",
       "1            1        4             ultra      754.159807            1   \n",
       "2            1        8             ultra     6723.470560            2   \n",
       "3            1       10             ultra     5809.911100            2   \n",
       "4            1       11             ultra     7003.499363            3   \n",
       "...        ...      ...               ...             ...          ...   \n",
       "11326     1534        6              free     3409.468534            2   \n",
       "11327     1534        8              free     7622.453034            2   \n",
       "11328     1534        9              free     4928.173852            1   \n",
       "11329     1534       11              free    13350.015305            4   \n",
       "11330     1534       12              free     2371.711192            1   \n",
       "\n",
       "       total_duration  revenue_per_month  \n",
       "0                42.0              451.0  \n",
       "1                 7.0              241.0  \n",
       "2                46.0              475.0  \n",
       "3                32.0              391.0  \n",
       "4                56.0              535.0  \n",
       "...               ...                ...  \n",
       "11326            26.0              308.0  \n",
       "11327            48.0              484.0  \n",
       "11328            23.0              234.0  \n",
       "11329            78.0              824.0  \n",
       "11330            16.0              178.0  \n",
       "\n",
       "[11331 rows x 7 columns]"
      ]
     },
     "execution_count": 33,
     "metadata": {},
     "output_type": "execute_result"
    }
   ],
   "source": [
    "agg_data"
   ]
  },
  {
   "cell_type": "code",
   "execution_count": 34,
   "id": "813115f0",
   "metadata": {},
   "outputs": [
    {
     "data": {
      "text/plain": [
       "user_id              0\n",
       "month_n              0\n",
       "subscription_type    0\n",
       "total_distance       0\n",
       "total_trips          0\n",
       "total_duration       0\n",
       "revenue_per_month    0\n",
       "dtype: int64"
      ]
     },
     "execution_count": 34,
     "metadata": {},
     "output_type": "execute_result"
    }
   ],
   "source": [
    "agg_data.isna().sum()"
   ]
  },
  {
   "cell_type": "markdown",
   "id": "c954d90f",
   "metadata": {},
   "source": [
    "Пропусков нет"
   ]
  },
  {
   "cell_type": "markdown",
   "id": "cf6d8fe9",
   "metadata": {},
   "source": [
    "<s>\n",
    "data['rounded_duration'] = data['duration'].apply(np.ceil)\n",
    "\n",
    "data['trip_cost'] = data['start_ride_price'] + data['rounded_duration'] * data['minute_price']\n",
    "\n",
    "agg_data_with_revenue = data.groupby(['user_id', 'month_n', 'subscription_type']).agg(\n",
    "    total_distance=('distance', 'sum'),\n",
    "    total_trips=('distance', 'count'),\n",
    "    total_duration=('duration', 'sum'),\n",
    "    total_revenue=('trip_cost', 'sum')  \n",
    ").reset_index()\n",
    "\n",
    "\n",
    "agg_data_with_revenue.head()"
   ]
  },
  {
   "cell_type": "markdown",
   "id": "bc994dea",
   "metadata": {},
   "source": [
    "<div class=\"alert alert-block alert-danger\">\n",
    "<h2> Комментарий ревьюера ⛔️<a class=\"tocSkip\"></h2>\n",
    "<s>\n",
    "    \n",
    "Нам нужно сначала округлить каждую поздку по времени, и уже после создать сводную таблицу. Так как иначе получается, что мы округляем общее кол-во и расчет неверный.\n",
    "    \n",
    "Перед расчетом выручки нужно добавить проверку на пропуски в сводной таблице.\n",
    "    \n",
    "Расчет выручки проведен неверно, стартовая поезка умножается на кол-во поездок, и нужно учесть стоимость подписки. \n",
    "    \n",
    "Мы сначала формируем сводную таблицу, а уже после считаем выручку. Не наоборот."
   ]
  },
  {
   "cell_type": "markdown",
   "id": "d4476e8f",
   "metadata": {},
   "source": [
    "<div class=\"alert alert-warning\">\n",
    "<h2> Комментарий ревьюера 🤓<a class=\"tocSkip\"> </h2>\n",
    "\n",
    "Можно провести дополнительное исследование выручки: построить распределения по тарифам и вывести общие статистики."
   ]
  },
  {
   "cell_type": "markdown",
   "id": "2089fb14",
   "metadata": {},
   "source": [
    "<div class=\"alert alert-block alert-danger\">\n",
    "<h2> Комментарий ревьюера ⛔️ v_2 <a class=\"tocSkip\"></h2>\n",
    "<s>\n",
    "    \n",
    "Мы все еще сначала проводим группировку, а после делаем округление, нужно скорректировать и переместить округление ПЕРЕД созданием сводной таблицы.\n",
    "    \n",
    "Не проверили таблицу на пропуски"
   ]
  },
  {
   "cell_type": "markdown",
   "id": "be60c834",
   "metadata": {},
   "source": [
    "<div class=\"alert alert-success\">\n",
    "<h2> Комментарий ревьюера 😊 v_3 <a class=\"tocSkip\"> </h2>\n",
    "\n",
    "Теперь все супер, молодец!)"
   ]
  },
  {
   "cell_type": "markdown",
   "id": "41545ac0",
   "metadata": {},
   "source": [
    "#### Шаг 6. Проверка гипотез"
   ]
  },
  {
   "cell_type": "markdown",
   "id": "0f4785d0",
   "metadata": {},
   "source": [
    "##### Важно понять, тратят ли пользователи с подпиской больше времени на поездки? Если да, то пользователи с подпиской могут быть «выгоднее» для компании. Проверьте гипотезу. Используйте исходные данные о продолжительности каждой сессии — отдельно для подписчиков и тех, у кого нет подписки."
   ]
  },
  {
   "cell_type": "markdown",
   "id": "6e158431",
   "metadata": {},
   "source": [
    "Гипотеза: пользователи с подпиской тратят больше времени на поездки, чем пользователи на бесплатном тарифе.\n",
    "\n",
    "H0: Время (duration) пользователей на подписке ultra = время (duration) пользователей на подписке free\n",
    "\n",
    "H1: Время (duration) пользователей на подписке ultra > время (duration) пользователей на подписке free"
   ]
  },
  {
   "cell_type": "code",
   "execution_count": 35,
   "id": "124a2ddb",
   "metadata": {},
   "outputs": [
    {
     "name": "stdout",
     "output_type": "stream",
     "text": [
      "1.2804098316645618e-34\n",
      "Отвергаем нулевую гипотезу\n"
     ]
    }
   ],
   "source": [
    "ultra = data_with_sub['duration'] \n",
    "\n",
    "free = data_without_sub['duration']\n",
    "\n",
    "results = st.ttest_ind(ultra, \n",
    "                       free,\n",
    "                       alternative = 'greater')\n",
    "\n",
    "alpha = 0.05\n",
    "\n",
    "print(results.pvalue)\n",
    "\n",
    "if results.pvalue < alpha:\n",
    "    print('Отвергаем нулевую гипотезу')\n",
    "else:\n",
    "    print('Не удалось отвергнуть нулевую гипотезу')"
   ]
  },
  {
   "cell_type": "code",
   "execution_count": 36,
   "id": "0fd9a142",
   "metadata": {
    "scrolled": false
   },
   "outputs": [
    {
     "data": {
      "image/png": "[encoded data removed]",
      "text/plain": [
       "<Figure size 432x288 with 1 Axes>"
      ]
     },
     "metadata": {
      "needs_background": "light"
     },
     "output_type": "display_data"
    }
   ],
   "source": [
    "gip1 = sns.barplot(x = 'month_n',\n",
    "            y = \"total_duration\",\n",
    "            hue = \"subscription_type\",\n",
    "            data = agg_data,\n",
    "            palette = ['grey', 'yellow'])\n",
    "gip1.set_title('Распределение продолжительности поездок по видам подписок и месяцам')\n",
    "gip1.set(xlabel='Номер месяца', ylabel='Продолжительность поездок');\n",
    "plt.legend(labels=['Без подписки', 'С подпиской'], );\n",
    "# Создаем пользовательские указатели для легенды\n",
    "handle_without_subscription = mpatches.Patch(color='grey', label='Без подписки')\n",
    "handle_with_subscription = mpatches.Patch(color='yellow', label='С подпиской')\n",
    "\n",
    "# Добавляем пользовательские указатели в легенду\n",
    "plt.legend(handles=[handle_without_subscription, handle_with_subscription]);"
   ]
  },
  {
   "cell_type": "markdown",
   "id": "302cb736",
   "metadata": {},
   "source": [
    "<s>gip1 = sns.barplot(x='month_n', \n",
    "                   y='total_duration', \n",
    "                   hue='subscription_type', \n",
    "                   data=agg_data.sort_values(\"total_duration\"),\n",
    "                   palette=['yellow', 'grey'])  # Здесь меняем цвета местами, если это необходимо\n",
    "\n",
    "# Устанавливаем заголовок и метки осей\n",
    "gip1.set_title('Распределение продолжительности поездок по видам подписок и месяцам')\n",
    "gip1.set(xlabel='Номер месяца', ylabel='Продолжительность поездок')\n",
    "\n",
    "# Устанавливаем легенду (метки в соответствии с вашими категориями)\n",
    "plt.legend(labels=['С подпиской', 'Без подписки'], colors=['yellow', 'grey'])  # Меняем местами, если нужно\n",
    "\n",
    "# Отображаем график\n",
    "plt.show()"
   ]
  },
  {
   "cell_type": "markdown",
   "id": "9263a7d7",
   "metadata": {},
   "source": [
    "<s>\n",
    "Вывод - В тесте, направленном на сравнение продолжительности поездок между пользователями с подпиской и без подписки, нулевая гипотеза была отвергнута. P-значение теста составляет примерно 1.28e-34, что гораздо меньше стандартного порога альфа 0.05. Это указывает на статистически значимые различия в продолжительности поездок между двумя группами. Пользователи с подпиской проводят в поездках больше времени, чем пользователи без подписки.\n",
    "\n",
    "На втором изображении показано распределение продолжительности поездок по месяцам для двух типов подписок. Желтые столбцы (пользователи без подписки) в целом выше, чем серые столбцы (пользователи с подпиской), что соответствует результатам теста. Это демонстрирует, что в каждом месяце средняя продолжительность поездок для подписчиков меньше, чем для не-подписчиков."
   ]
  },
  {
   "cell_type": "markdown",
   "id": "90429545",
   "metadata": {},
   "source": [
    "<div class=\"alert alert-success\">\n",
    "<h2> Комментарий ревьюера 😊 v_2 <a class=\"tocSkip\"> </h2>\n",
    "\n",
    "Тест проведен верно, но вывод по графику неверный"
   ]
  },
  {
   "cell_type": "markdown",
   "id": "9ff0fc25",
   "metadata": {},
   "source": [
    "<div class=\"alert alert-block alert-danger\">\n",
    "<h2> Комментарий ревьюера ⛔️ v_2 <a class=\"tocSkip\"></h2>\n",
    "<s>\n",
    "Вывод по графику нужно доработать, желтые это пользователи без подписки)"
   ]
  },
  {
   "cell_type": "markdown",
   "id": "8dac4166",
   "metadata": {},
   "source": [
    "<div class=\"alert alert-info\" style=\"border-radius: 10px; box-shadow: 2px 2px 2px; border: 1px solid; padding: 10px \"> \n",
    "<b>Комментарий студента v_2</b> \n",
    "\n",
    "  Да, делал в ночи и перепутал, спасибо большое!\n",
    "</div>"
   ]
  },
  {
   "cell_type": "markdown",
   "id": "64201860",
   "metadata": {},
   "source": [
    "<div class=\"alert alert-block alert-danger\">\n",
    "<h2> Комментарий ревьюера ⛔️ v_3 <a class=\"tocSkip\"></h2>\n",
    "<s>\n",
    "Нам нужно на графике поменять местами подписи в легенде, и скорректировать вывод)"
   ]
  },
  {
   "cell_type": "markdown",
   "id": "71cb3378",
   "metadata": {},
   "source": [
    "Вывод - В тесте, направленном на сравнение продолжительности поездок между пользователями с подпиской и без подписки, нулевая гипотеза была отвергнута. P-значение теста составляет примерно 1.28e-34, что гораздо меньше стандартного порога альфа 0.05. Это указывает на статистически значимые различия в продолжительности поездок между двумя группами. Пользователи без подписки проводят в поездках меньше времени, чем пользователи с подпиской.\n",
    "\n",
    "На изображении показано распределение продолжительности поездок по месяцам для двух типов подписок. **Серые** столбцы (пользователи **без** подписки) в целом **ниже**, чем **желтые** столбцы (пользователи **с** подпиской), что соответствует результатам теста. Это демонстрирует, что в каждом месяце средняя **продолжительность** поездок **для подписчиков больше**, чем для не-подписчиков."
   ]
  },
  {
   "cell_type": "markdown",
   "id": "6a1d7edb",
   "metadata": {},
   "source": [
    "<div class=\"alert alert-info\" style=\"border-radius: 10px; box-shadow: 2px 2px 2px; border: 1px solid; padding: 10px \"> \n",
    "<b>Комментарий студента v_3</b> \n",
    "\n",
    "  Исправил!\n",
    "</div>"
   ]
  },
  {
   "cell_type": "markdown",
   "id": "1e460f50",
   "metadata": {},
   "source": [
    "<div class=\"alert alert-block alert-danger\">\n",
    "<h2> Комментарий ревьюера ⛔️ v_4 <a class=\"tocSkip\"></h2>\n",
    "<s>\n",
    "Смотри, у  нас по тесту получилось, что пользователи С ПОДПИСКОЙ проезжают больше, а по графику наоборот, потому что перепутаны значения, ты сейчас и подписи и показатели поменял и в итоге ничего не изменилось. Нужно чтобы те столбцы что выше были подписаны как пользователи с подпиской. И наоборот и в выводе в таком случае будет логичное подтверждение гипотезы, а не опровержение."
   ]
  },
  {
   "cell_type": "markdown",
   "id": "a628ecbc",
   "metadata": {},
   "source": [
    "<div class=\"alert alert-info\" style=\"border-radius: 10px; box-shadow: 2px 2px 2px; border: 1px solid; padding: 10px \"> \n",
    "<b>Комментарий студента v_4</b> \n",
    "\n",
    "  Я сделал как ты сказала, только вот посмотри, что вышло ниже, по среднему зн выходит совсем иная ситуация\n",
    "    \n",
    "  Прокомментируй пожалуйста\n",
    "</div>"
   ]
  },
  {
   "cell_type": "markdown",
   "id": "881afb1c",
   "metadata": {},
   "source": [
    "<div class=\"alert alert-success\">\n",
    "<h2> Комментарий ревьюера 😊 v_5 <a class=\"tocSkip\"> </h2>\n",
    "\n",
    "Верно, ведь у нас пользователей без подписки намного больше и если расчитывать среднее по общим показателям значения будут выше у тех, кто без подписки. То же самое у нас будет с выручкой, но при этом в расчете напользователя пользователя с подпиской приносят больше)"
   ]
  },
  {
   "cell_type": "code",
   "execution_count": 37,
   "id": "9a264be7",
   "metadata": {},
   "outputs": [
    {
     "data": {
      "text/html": [
       "<div>\n",
       "<style scoped>\n",
       "    .dataframe tbody tr th:only-of-type {\n",
       "        vertical-align: middle;\n",
       "    }\n",
       "\n",
       "    .dataframe tbody tr th {\n",
       "        vertical-align: top;\n",
       "    }\n",
       "\n",
       "    .dataframe thead th {\n",
       "        text-align: right;\n",
       "    }\n",
       "</style>\n",
       "<table border=\"1\" class=\"dataframe\">\n",
       "  <thead>\n",
       "    <tr style=\"text-align: right;\">\n",
       "      <th></th>\n",
       "      <th>subscription_type</th>\n",
       "      <th>total_duration</th>\n",
       "    </tr>\n",
       "  </thead>\n",
       "  <tbody>\n",
       "    <tr>\n",
       "      <th>0</th>\n",
       "      <td>free</td>\n",
       "      <td>30.444690</td>\n",
       "    </tr>\n",
       "    <tr>\n",
       "      <th>1</th>\n",
       "      <td>ultra</td>\n",
       "      <td>27.298698</td>\n",
       "    </tr>\n",
       "  </tbody>\n",
       "</table>\n",
       "</div>"
      ],
      "text/plain": [
       "  subscription_type  total_duration\n",
       "0              free       30.444690\n",
       "1             ultra       27.298698"
      ]
     },
     "execution_count": 37,
     "metadata": {},
     "output_type": "execute_result"
    }
   ],
   "source": [
    "average_duration = agg_data.groupby('subscription_type')['total_duration'].mean().reset_index()\n",
    "average_duration"
   ]
  },
  {
   "cell_type": "markdown",
   "id": "5014573f",
   "metadata": {},
   "source": [
    "##### Расстояние одной поездки в 3130 метров — оптимальное с точки зрения износа самоката. Можно ли сказать, что среднее расстояние, которое проезжают пользователи с подпиской за одну поездку, не превышает 3130 метров? Проверьте гипотезу и сделайте выводы."
   ]
  },
  {
   "cell_type": "markdown",
   "id": "490a54ad",
   "metadata": {},
   "source": [
    "Гипотеза: пользователи с подпиской проезжают расстояние, не превышающее 3130 метров за одну поездку.\n",
    "\n",
    "H0: Расстояние (distance) пользователей на подписке ultra = 3130 метров\n",
    "\n",
    "H1: Расстояние (distance) пользователей на подписке ultra > 3130 метров"
   ]
  },
  {
   "cell_type": "code",
   "execution_count": 38,
   "id": "c449444d",
   "metadata": {},
   "outputs": [
    {
     "name": "stdout",
     "output_type": "stream",
     "text": [
      "0.9195368847849785\n",
      "Не удалось отвергнуть нулевую гипотезу\n"
     ]
    }
   ],
   "source": [
    "ultra_distance = data_with_sub['distance']\n",
    "\n",
    "interested_value = 3130.0\n",
    "\n",
    "alpha = 0.05\n",
    "\n",
    "results = st.ttest_1samp(\n",
    "    ultra_distance, \n",
    "    interested_value,\n",
    "    alternative='greater')\n",
    "    \n",
    "print(results.pvalue)\n",
    "\n",
    "if (results.pvalue < alpha):\n",
    "    print('Отвергаем нулевую гипотезу')\n",
    "else:\n",
    "    print('Не удалось отвергнуть нулевую гипотезу')"
   ]
  },
  {
   "cell_type": "markdown",
   "id": "0d97a5ad",
   "metadata": {},
   "source": [
    "<div class=\"alert alert-block alert-danger\">\n",
    "<h2> Комментарий ревьюера ⛔️ v_2<a class=\"tocSkip\"></h2> \n",
    "   <s>\n",
    "Поскольку оптимальное расстояние по износу составляет 3130 м, значит большее расстояние приводит к повышенному износу самоката. Следовательно, имеет смысл сформулировать альтернативную гипотезу \"Подписчики в среднем проезжают расстояние больше оптимального\" и соответственно в статистическом тесте использовать параметр alternative = 'greater'.\n",
    "    "
   ]
  },
  {
   "cell_type": "markdown",
   "id": "4ec1daf7",
   "metadata": {},
   "source": [
    "<div class=\"alert alert-info\" style=\"border-radius: 10px; box-shadow: 2px 2px 2px; border: 1px solid; padding: 10px \"> \n",
    "<b>Комментарий студента v_2</b> \n",
    "\n",
    "  Исправил, спасибо!\n",
    "</div>"
   ]
  },
  {
   "cell_type": "markdown",
   "id": "b85f3b2e",
   "metadata": {},
   "source": [
    "<div class=\"alert alert-success\">\n",
    "<h2> Комментарий ревьюера 😊 v_3 <a class=\"tocSkip\"> </h2>\n",
    "\n",
    "Верно)"
   ]
  },
  {
   "cell_type": "markdown",
   "id": "1b802da9",
   "metadata": {},
   "source": [
    "Вывод - Исходя из проведенного одновыборочного t-теста, мы не можем утверждать, что пользователи с подпиской \"ultra\" преодолевают за одну поездку больше, чем 3130 метров, так как p-значение  выше установленного порога значимости (0.05)."
   ]
  },
  {
   "cell_type": "markdown",
   "id": "59dbb72f",
   "metadata": {},
   "source": [
    " С точки зрения бизнеса и износа самокатов, это означает, что мы не имеем оснований предполагать, что самокаты, используемые пользователями с подпиской \"ultra\", испытывают больший износ за одну поездку по сравнению с другими пользователями. Следовательно, предположения о дополнительных затратах на обслуживание или более частой замене самокатов для этой группы пользователей не находят подтверждения в данных."
   ]
  },
  {
   "cell_type": "markdown",
   "id": "a024850a",
   "metadata": {},
   "source": [
    "<div class=\"alert alert-warning\">\n",
    "<h2> Комментарий ревьюера 🤓 v_2<a class=\"tocSkip\"> </h2>\n",
    "    \n",
    "Вывод стоит сформулировать применительно к запросу бизнеса: с точки зрения износа самоката."
   ]
  },
  {
   "cell_type": "markdown",
   "id": "083f2ce7",
   "metadata": {},
   "source": [
    "<div class=\"alert alert-info\" style=\"border-radius: 10px; box-shadow: 2px 2px 2px; border: 1px solid; padding: 10px \"> \n",
    "<b>Комментарий студента v_2</b> \n",
    "\n",
    "  Добавил\n",
    "</div>"
   ]
  },
  {
   "cell_type": "markdown",
   "id": "a1425435",
   "metadata": {},
   "source": [
    "##### Проверьте гипотезу о том, будет ли помесячная выручка от пользователей с подпиской по месяцам выше, чем выручка от пользователей без подписки. Сделайте вывод."
   ]
  },
  {
   "cell_type": "markdown",
   "id": "7f7cf7bc",
   "metadata": {},
   "source": [
    "Гипотеза: помесячная выручка от пользователей с подпиской выше, чем выручка от пользователей без подписки\n",
    "\n",
    "H0: Выручка (revenue_per_month) пользователей на подписке ultra = выручка (revenue_per_month) пользователей на подписке free\n",
    "\n",
    "H1: Выручка (revenue_per_month) пользователей на подписке ultra > выручка (revenue_per_month) пользователей на подписке free"
   ]
  },
  {
   "cell_type": "code",
   "execution_count": 39,
   "id": "10d15797",
   "metadata": {},
   "outputs": [
    {
     "name": "stdout",
     "output_type": "stream",
     "text": [
      "1.8850394384715216e-31\n",
      "Отвергаем нулевую гипотезу\n"
     ]
    }
   ],
   "source": [
    "ultra_mnth = agg_data.loc[agg_data['subscription_type'] == 'ultra', 'revenue_per_month'] \n",
    "\n",
    "free_mnth = agg_data.loc[agg_data['subscription_type'] == 'free', 'revenue_per_month'] \n",
    "\n",
    "\n",
    "results = st.ttest_ind(ultra_mnth, \n",
    "                       free_mnth,\n",
    "                       alternative = 'greater')\n",
    "\n",
    "alpha = 0.05\n",
    "\n",
    "print(results.pvalue)\n",
    "\n",
    "if results.pvalue < alpha:\n",
    "    print('Отвергаем нулевую гипотезу')\n",
    "else:\n",
    "    print('Не удалось отвергнуть нулевую гипотезу')"
   ]
  },
  {
   "cell_type": "markdown",
   "id": "93386cd6",
   "metadata": {},
   "source": [
    "На основании предоставленного анализа, был проведен t-тест для сравнения месячной выручки пользователей с подпиской \"ultra\" и пользователей без подписки (\"free\"). Результаты показали, что p-значение теста крайне мало (примерно 2.81e-35), что значительно ниже установленного порога альфа (0.05).\n",
    "\n",
    "Это означает, что мы отвергаем нулевую гипотезу и принимаем альтернативную гипотезу: помесячная выручка от пользователей с подпиской \"ultra\" статистически значимо выше, чем от пользователей без подписки. Это подтверждает предположение о том, что пользователи с подпиской могут быть более выгодными для компании по сравнению с пользователями бесплатного тарифа."
   ]
  },
  {
   "cell_type": "markdown",
   "id": "13b9d4ac",
   "metadata": {},
   "source": [
    "<div class=\"alert alert-success\">\n",
    "<h2> Комментарий ревьюера 😊 v_2 <a class=\"tocSkip\"> </h2>\n",
    "\n",
    "Верно)"
   ]
  },
  {
   "cell_type": "markdown",
   "id": "98c0b790",
   "metadata": {},
   "source": [
    "##### Представьте такую ситуацию: техническая команда сервиса обновила сервера, с которыми взаимодействует мобильное приложение. Она надеется, что из-за этого количество обращений в техподдержку значимо снизилось. Некоторый файл содержит для каждого пользователя данные о количестве обращений до обновления и после него. Какой тест вам понадобился бы для проверки этой гипотезы?"
   ]
  },
  {
   "cell_type": "markdown",
   "id": "80c05ea2",
   "metadata": {},
   "source": [
    "<s>\n",
    "    Воспользуемся следующим подходом для проверки гипотез о совпадении средних в парных выборках:\n",
    "\n",
    "- Нулевая гипотеза (H0): μ1 = μ2\n",
    "- Альтернативная гипотеза (H1): μ1 ≠ μ2\n",
    "\n",
    "где:\n",
    "μ1 — среднее значение обращений в службу поддержки до внесения изменений,\n",
    "μ2 — среднее значение после.\n",
    "\n",
    "Анализ проводим с применением функции:\n",
    "scipy.stats.ttest_rel()"
   ]
  },
  {
   "cell_type": "markdown",
   "id": "d1d5ea19",
   "metadata": {},
   "source": [
    "<div class=\"alert alert-block alert-danger\">\n",
    "<h2> Комментарий ревьюера ⛔️<a class=\"tocSkip\"></h2>\n",
    "<s>\n",
    "В данном пункте необходимо провести статистические тесты: составить нулевые и альтернативные гипотезы, выбрать необходимый тест и провести расчет, сравнить с выбранным уровнем значимости и принять решение по тесту, составить вывод."
   ]
  },
  {
   "cell_type": "markdown",
   "id": "68b096c1",
   "metadata": {},
   "source": [
    "<div class=\"alert alert-block alert-danger\">\n",
    "<h2> Комментарий ревьюера ⛔️ v_2 <a class=\"tocSkip\"></h2>\n",
    "<s>\n",
    "Метод выбран верно, но проверяться будет одностороння гипотеза, так как нас интересует снижение показателя, гипотеза будет левосторонней)"
   ]
  },
  {
   "cell_type": "markdown",
   "id": "0d5adf85",
   "metadata": {},
   "source": [
    "<div class=\"alert alert-info\" style=\"border-radius: 10px; box-shadow: 2px 2px 2px; border: 1px solid; padding: 10px \"> \n",
    "<b>Комментарий студента v_2</b> \n",
    "\n",
    "  Исправленный вариант ниже)\n",
    "</div>"
   ]
  },
  {
   "cell_type": "markdown",
   "id": "807b2e64",
   "metadata": {},
   "source": [
    "Нулевая гипотеза (H0): μ1 = μ2\n",
    "\n",
    "Это означает, что среднее количество обращений до обновления м равно среднему количеству обращений после обновления.\n",
    "\n",
    "Альтернативная гипотеза (H1): μ1 < μ2\n",
    "\n",
    "Это означает, что среднее количество обращений до обновления меньше, чем среднее количество обращений после обновления, и именно этот результат мы хотим обнаружить."
   ]
  },
  {
   "cell_type": "markdown",
   "id": "3bd88e38",
   "metadata": {},
   "source": [
    "<div class=\"alert alert-block alert-danger\">\n",
    "<h2> Комментарий ревьюера ⛔️ v_3 <a class=\"tocSkip\"></h2>\n",
    "<s>\n",
    "Гипотеза сейчас правосторонняя.\n",
    "\n",
    "Нулевая гипотеза это всегда равенство.\n",
    "\n",
    "Гипотезы будут выглядеть следующим образом:\n",
    "    \n",
    "H0    μ1 = μ2\n",
    "    \n",
    "H1    μ2 < μ1"
   ]
  },
  {
   "cell_type": "markdown",
   "id": "d11fe30f",
   "metadata": {},
   "source": [
    "<div class=\"alert alert-info\" style=\"border-radius: 10px; box-shadow: 2px 2px 2px; border: 1px solid; padding: 10px \"> \n",
    "<b>Комментарий студента v_3</b> \n",
    "\n",
    "  Исправил в том же месте, спасибо большое за ваши комментарии!!!\n",
    "</div>"
   ]
  },
  {
   "cell_type": "markdown",
   "id": "11205a60",
   "metadata": {},
   "source": [
    "<div class=\"alert alert-success\">\n",
    "<h2> Комментарий ревьюера 😊 v_4 <a class=\"tocSkip\"> </h2>\n",
    "\n",
    "Теперь все отлично) "
   ]
  },
  {
   "cell_type": "markdown",
   "id": "3298928f",
   "metadata": {},
   "source": [
    "Поскольку scipy.stats.ttest_rel() по умолчанию выполняет двусторонний тест, для проверки односторонней гипотезы нужно интерпретировать p-значение. Для проверки, снизилось ли количество обращений (что соответствует альтернативной гипотезе H1: μ1 > μ2), следует разделить полученное двустороннее p-значение пополам. Это связано с тем, что двустороннее p-значение рассчитывается для обеих сторон распределения, а нам нужно только одно направление."
   ]
  },
  {
   "cell_type": "markdown",
   "id": "61213c5e",
   "metadata": {},
   "source": [
    "#### Шаг 7. Распределения"
   ]
  },
  {
   "cell_type": "markdown",
   "id": "5a975962",
   "metadata": {},
   "source": [
    "<div class=\"alert alert-block alert-danger\">\n",
    "<h2> Комментарий ревьюера ⛔️<a class=\"tocSkip\"></h2>\n",
    "    <s>\n",
    "Общий вывод это главный итог твоей работы, то что мы можем предоставить нашему заказчику. Давай дополним его результатами твоей работы и основными выводами, которые мы получили) \n",
    "    \n",
    "В выводе нужно аргументированно ответить на главный вопрос исследования: являются ли пользователи с подпиской более выгодными для компании?"
   ]
  },
  {
   "cell_type": "markdown",
   "id": "7fd4fd23",
   "metadata": {},
   "source": [
    "# Общий вывод"
   ]
  },
  {
   "cell_type": "markdown",
   "id": "4b618931",
   "metadata": {},
   "source": [
    "На основе проведенного анализа данных по пользователям сервиса и их поездкам, можно сделать следующий общий вывод:\n",
    "\n",
    "**Анализ продолжительности и расстояний поездок:** Пользователи с подпиской \"ultra\" проводят в поездках больше времени по сравнению с пользователями бесплатного тарифа, что указывает на их более активное использование сервиса. Однако среднее расстояние поездок пользователей с подпиской не превышает оптимальных 3130 метров, что соответствует ожидаемым показателям использования.\n",
    "\n",
    "**Анализ помесячной выручки:** Статистический анализ показал, что помесячная выручка от пользователей с подпиской \"ultra\" значительно выше по сравнению с пользователями бесплатного тарифа. Это подтверждает, что подписчики приносят больше дохода компании.\n",
    "\n",
    "**Общий вывод:** На основе проведенного исследования можно утверждать, что пользователи с подпиской действительно являются более выгодными для компании. Они не только проводят больше времени в поездках, но и приносят большую выручку по сравнению с пользователями, которые пользуются бесплатным тарифом. Это может служить основанием для разработки стратегий по привлечению новых подписчиков и стимулированию существующих пользователей переходить на платные тарифы, а также для оптимизации предложений и услуг, направленных на увеличение лояльности и удовлетворенности клиентов с подпиской.\n",
    "\n",
    "Таким образом, для увеличения прибыльности и улучшения показателей использования сервиса компании следует сосредоточиться на увеличении количества подписчиков и разработке дополнительных стимулов для повышения их активности."
   ]
  },
  {
   "cell_type": "markdown",
   "id": "5616be2c",
   "metadata": {},
   "source": [
    "<div style=\"border:solid Purple 2px; padding: 40px\">\n",
    "\n",
    "<h2> Общий комментарий ревьюера 😊 v_5<a class=\"tocSkip\"> </h2>\n",
    "    <br/>\n",
    "Николай, спасибо за проект! Успехов в дальнейшем обучении!)\n",
    "    "
   ]
  },
  {
   "cell_type": "markdown",
   "id": "aad68b45",
   "metadata": {},
   "source": [
    "<div style=\"border:solid Purple 2px; padding: 40px\">\n",
    "\n",
    "<h2> Общий комментарий ревьюера 😊 v_2<a class=\"tocSkip\"> </h2>\n",
    "    <br/>\n",
    "    \n",
    "Николай, осталось еще немного доработать)"
   ]
  },
  {
   "cell_type": "markdown",
   "id": "1ee284ed",
   "metadata": {},
   "source": [
    "<div style=\"border:solid Purple 2px; padding: 40px\">\n",
    "\n",
    "<h2> Общий комментарий ревьюера 😊<a class=\"tocSkip\"> </h2>\n",
    "    <br/>\n",
    "Николай, прислан незавершенный проект. Прошу доработать и прислать полную версию на проверку. \n",
    "\n",
    "Необходимо доработать:\n",
    "    \n",
    "* Расчет выручки\n",
    "* Статистический анализ\n",
    "* Дополнить выводы\n",
    "* Остальные комментарии ты найдешь в работе\n",
    "\n",
    "**Желаю удачи и жду твой проект на повторное ревью! Если у тебя вдруг есть какие–либо вопросы, то я с радостью отвечу на них 😊**\n",
    "    "
   ]
  },
  {
   "cell_type": "code",
   "execution_count": null,
   "id": "faa80d3f",
   "metadata": {},
   "outputs": [],
   "source": []
  }
 ],
 "metadata": {
  "ExecuteTimeLog": [
   {
    "duration": 370,
    "start_time": "2024-03-19T21:03:44.175Z"
   },
   {
    "duration": 87,
    "start_time": "2024-03-19T21:03:46.578Z"
   },
   {
    "duration": 28,
    "start_time": "2024-03-19T21:04:04.739Z"
   },
   {
    "duration": 57,
    "start_time": "2024-03-19T21:06:52.945Z"
   },
   {
    "duration": 7,
    "start_time": "2024-03-19T21:08:48.458Z"
   },
   {
    "duration": 7,
    "start_time": "2024-03-19T21:08:55.674Z"
   },
   {
    "duration": 7,
    "start_time": "2024-03-19T21:08:59.842Z"
   },
   {
    "duration": 10,
    "start_time": "2024-03-19T21:09:05.624Z"
   },
   {
    "duration": 10,
    "start_time": "2024-03-19T21:09:24.457Z"
   },
   {
    "duration": 6,
    "start_time": "2024-03-19T21:09:59.899Z"
   },
   {
    "duration": 6,
    "start_time": "2024-03-19T21:10:33.086Z"
   },
   {
    "duration": 76,
    "start_time": "2024-03-19T21:10:38.167Z"
   },
   {
    "duration": 35,
    "start_time": "2024-03-19T21:10:41.248Z"
   },
   {
    "duration": 52,
    "start_time": "2024-03-19T21:10:42.037Z"
   },
   {
    "duration": 7,
    "start_time": "2024-03-19T21:10:44.169Z"
   },
   {
    "duration": 6,
    "start_time": "2024-03-19T21:10:46.421Z"
   },
   {
    "duration": 7,
    "start_time": "2024-03-19T21:10:57.373Z"
   },
   {
    "duration": 8,
    "start_time": "2024-03-19T21:11:02.241Z"
   },
   {
    "duration": 9,
    "start_time": "2024-03-19T21:11:36.993Z"
   },
   {
    "duration": 9,
    "start_time": "2024-03-19T21:12:00.793Z"
   },
   {
    "duration": 8,
    "start_time": "2024-03-19T21:12:22.039Z"
   },
   {
    "duration": 5,
    "start_time": "2024-03-19T21:16:23.512Z"
   },
   {
    "duration": 279,
    "start_time": "2024-03-19T21:16:40.732Z"
   },
   {
    "duration": 8,
    "start_time": "2024-03-19T21:16:59.999Z"
   },
   {
    "duration": 6,
    "start_time": "2024-03-19T21:17:05.990Z"
   },
   {
    "duration": 9,
    "start_time": "2024-03-19T21:18:25.940Z"
   },
   {
    "duration": 8,
    "start_time": "2024-03-19T21:18:38.240Z"
   },
   {
    "duration": 35,
    "start_time": "2024-03-19T21:18:39.865Z"
   },
   {
    "duration": 12,
    "start_time": "2024-03-19T21:18:46.683Z"
   },
   {
    "duration": 13,
    "start_time": "2024-03-19T21:19:21.345Z"
   },
   {
    "duration": 12,
    "start_time": "2024-03-19T21:20:55.290Z"
   },
   {
    "duration": 3,
    "start_time": "2024-03-19T21:22:37.860Z"
   },
   {
    "duration": 12,
    "start_time": "2024-03-19T21:22:53.056Z"
   },
   {
    "duration": 5,
    "start_time": "2024-03-19T21:23:13.756Z"
   },
   {
    "duration": 5,
    "start_time": "2024-03-19T21:23:26.856Z"
   },
   {
    "duration": 4,
    "start_time": "2024-03-19T21:23:41.380Z"
   },
   {
    "duration": 6,
    "start_time": "2024-03-19T21:25:17.070Z"
   },
   {
    "duration": 4,
    "start_time": "2024-03-19T21:25:40.211Z"
   },
   {
    "duration": 5,
    "start_time": "2024-03-19T21:26:03.724Z"
   },
   {
    "duration": 6,
    "start_time": "2024-03-19T21:26:30.514Z"
   },
   {
    "duration": 9,
    "start_time": "2024-03-19T21:28:28.688Z"
   },
   {
    "duration": 5,
    "start_time": "2024-03-19T21:28:39.505Z"
   },
   {
    "duration": 6,
    "start_time": "2024-03-19T21:28:54.118Z"
   },
   {
    "duration": 5,
    "start_time": "2024-03-19T21:29:05.097Z"
   },
   {
    "duration": 5,
    "start_time": "2024-03-19T21:31:26.026Z"
   },
   {
    "duration": 5,
    "start_time": "2024-03-19T21:31:44.478Z"
   },
   {
    "duration": 5,
    "start_time": "2024-03-19T21:32:11.229Z"
   },
   {
    "duration": 5,
    "start_time": "2024-03-19T21:35:02.217Z"
   },
   {
    "duration": 8,
    "start_time": "2024-03-19T21:36:12.773Z"
   },
   {
    "duration": 10,
    "start_time": "2024-03-19T21:36:58.359Z"
   },
   {
    "duration": 8,
    "start_time": "2024-03-19T21:37:03.908Z"
   },
   {
    "duration": 6,
    "start_time": "2024-03-19T21:42:41.540Z"
   },
   {
    "duration": 13,
    "start_time": "2024-03-19T21:43:03.379Z"
   },
   {
    "duration": 7,
    "start_time": "2024-03-19T21:43:26.394Z"
   },
   {
    "duration": 12,
    "start_time": "2024-03-19T21:43:39.531Z"
   },
   {
    "duration": 4,
    "start_time": "2024-03-19T21:44:49.580Z"
   },
   {
    "duration": 7,
    "start_time": "2024-03-19T21:45:17.361Z"
   },
   {
    "duration": 4,
    "start_time": "2024-03-19T21:55:55.768Z"
   },
   {
    "duration": 356,
    "start_time": "2024-03-19T21:59:04.322Z"
   },
   {
    "duration": 16,
    "start_time": "2024-03-19T21:59:27.926Z"
   },
   {
    "duration": 10,
    "start_time": "2024-03-19T22:00:19.361Z"
   },
   {
    "duration": 9,
    "start_time": "2024-03-19T22:00:58.821Z"
   },
   {
    "duration": 516,
    "start_time": "2024-03-19T22:02:34.559Z"
   },
   {
    "duration": 158,
    "start_time": "2024-03-19T22:02:37.110Z"
   },
   {
    "duration": 42,
    "start_time": "2024-03-19T22:03:10.919Z"
   },
   {
    "duration": 153,
    "start_time": "2024-03-19T22:03:32.544Z"
   },
   {
    "duration": 140,
    "start_time": "2024-03-19T22:04:02.265Z"
   },
   {
    "duration": 146,
    "start_time": "2024-03-19T22:04:24.195Z"
   },
   {
    "duration": 138,
    "start_time": "2024-03-19T22:06:05.718Z"
   },
   {
    "duration": 101,
    "start_time": "2024-03-19T22:13:01.729Z"
   },
   {
    "duration": 80,
    "start_time": "2024-03-19T22:13:22.726Z"
   },
   {
    "duration": 74,
    "start_time": "2024-03-19T22:13:36.908Z"
   },
   {
    "duration": 162,
    "start_time": "2024-03-19T22:20:12.716Z"
   },
   {
    "duration": 112,
    "start_time": "2024-03-19T22:21:06.033Z"
   },
   {
    "duration": 112,
    "start_time": "2024-03-19T22:21:11.485Z"
   },
   {
    "duration": 130,
    "start_time": "2024-03-19T22:23:25.874Z"
   },
   {
    "duration": 411,
    "start_time": "2024-03-19T22:42:41.477Z"
   },
   {
    "duration": 166,
    "start_time": "2024-03-19T22:42:53.798Z"
   },
   {
    "duration": 332,
    "start_time": "2024-03-19T22:43:02.341Z"
   },
   {
    "duration": 412,
    "start_time": "2024-03-19T22:44:22.956Z"
   },
   {
    "duration": 7,
    "start_time": "2024-03-19T22:49:54.093Z"
   },
   {
    "duration": 11,
    "start_time": "2024-03-19T22:50:03.536Z"
   },
   {
    "duration": 6,
    "start_time": "2024-03-19T22:50:50.888Z"
   },
   {
    "duration": 12,
    "start_time": "2024-03-19T22:50:57.257Z"
   },
   {
    "duration": 13,
    "start_time": "2024-03-19T22:51:10.417Z"
   },
   {
    "duration": 11,
    "start_time": "2024-03-19T22:51:15.189Z"
   },
   {
    "duration": 151,
    "start_time": "2024-03-19T23:00:26.439Z"
   },
   {
    "duration": 138,
    "start_time": "2024-03-19T23:00:45.199Z"
   },
   {
    "duration": 18,
    "start_time": "2024-03-19T23:02:42.983Z"
   },
   {
    "duration": 12,
    "start_time": "2024-03-19T23:08:44.658Z"
   },
   {
    "duration": 20,
    "start_time": "2024-03-19T23:09:27.546Z"
   },
   {
    "duration": 3,
    "start_time": "2024-03-19T23:23:47.197Z"
   },
   {
    "duration": 13,
    "start_time": "2024-03-19T23:23:48.211Z"
   },
   {
    "duration": 30,
    "start_time": "2024-03-19T23:24:01.201Z"
   },
   {
    "duration": 476,
    "start_time": "2024-03-20T13:24:03.150Z"
   },
   {
    "duration": 30,
    "start_time": "2024-03-20T13:24:03.629Z"
   },
   {
    "duration": 32,
    "start_time": "2024-03-20T13:24:03.662Z"
   },
   {
    "duration": 16,
    "start_time": "2024-03-20T13:24:03.696Z"
   },
   {
    "duration": 16,
    "start_time": "2024-03-20T13:24:03.714Z"
   },
   {
    "duration": 13,
    "start_time": "2024-03-20T13:24:03.732Z"
   },
   {
    "duration": 13,
    "start_time": "2024-03-20T13:24:03.746Z"
   },
   {
    "duration": 27,
    "start_time": "2024-03-20T13:24:03.761Z"
   },
   {
    "duration": 13,
    "start_time": "2024-03-20T13:24:03.790Z"
   },
   {
    "duration": 38,
    "start_time": "2024-03-20T13:24:03.805Z"
   },
   {
    "duration": 13,
    "start_time": "2024-03-20T13:24:03.845Z"
   },
   {
    "duration": 7,
    "start_time": "2024-03-20T13:24:03.860Z"
   },
   {
    "duration": 7,
    "start_time": "2024-03-20T13:24:03.869Z"
   },
   {
    "duration": 7,
    "start_time": "2024-03-20T13:24:03.880Z"
   },
   {
    "duration": 7,
    "start_time": "2024-03-20T13:24:03.888Z"
   },
   {
    "duration": 12,
    "start_time": "2024-03-20T13:24:03.896Z"
   },
   {
    "duration": 20,
    "start_time": "2024-03-20T13:24:03.910Z"
   },
   {
    "duration": 8,
    "start_time": "2024-03-20T13:24:03.932Z"
   },
   {
    "duration": 594,
    "start_time": "2024-03-20T13:24:04.233Z"
   },
   {
    "duration": 201,
    "start_time": "2024-03-20T13:24:04.829Z"
   },
   {
    "duration": 111,
    "start_time": "2024-03-20T13:24:05.032Z"
   },
   {
    "duration": 195,
    "start_time": "2024-03-20T13:24:05.145Z"
   },
   {
    "duration": 462,
    "start_time": "2024-03-20T13:24:05.342Z"
   },
   {
    "duration": 405,
    "start_time": "2024-03-20T13:24:05.806Z"
   },
   {
    "duration": 23,
    "start_time": "2024-03-20T13:24:06.212Z"
   },
   {
    "duration": 25,
    "start_time": "2024-03-20T13:24:06.237Z"
   },
   {
    "duration": 2,
    "start_time": "2024-03-20T13:24:06.281Z"
   },
   {
    "duration": 58,
    "start_time": "2024-03-20T13:24:06.285Z"
   },
   {
    "duration": 1480,
    "start_time": "2024-03-20T15:49:32.805Z"
   },
   {
    "duration": 3,
    "start_time": "2024-03-20T15:50:47.694Z"
   },
   {
    "duration": 119,
    "start_time": "2024-03-20T15:57:05.462Z"
   },
   {
    "duration": 3,
    "start_time": "2024-03-20T15:57:10.925Z"
   },
   {
    "duration": 95,
    "start_time": "2024-03-20T15:57:10.930Z"
   },
   {
    "duration": 161,
    "start_time": "2024-03-20T15:57:11.028Z"
   },
   {
    "duration": 57,
    "start_time": "2024-03-20T15:57:11.191Z"
   },
   {
    "duration": 13,
    "start_time": "2024-03-20T15:57:11.251Z"
   },
   {
    "duration": 12,
    "start_time": "2024-03-20T15:57:11.266Z"
   },
   {
    "duration": 10,
    "start_time": "2024-03-20T15:57:11.280Z"
   },
   {
    "duration": 12,
    "start_time": "2024-03-20T15:57:11.292Z"
   },
   {
    "duration": 8,
    "start_time": "2024-03-20T15:57:11.305Z"
   },
   {
    "duration": 10,
    "start_time": "2024-03-20T15:57:11.314Z"
   },
   {
    "duration": 10,
    "start_time": "2024-03-20T15:57:11.326Z"
   },
   {
    "duration": 11,
    "start_time": "2024-03-20T15:57:11.338Z"
   },
   {
    "duration": 42,
    "start_time": "2024-03-20T15:57:11.351Z"
   },
   {
    "duration": 7,
    "start_time": "2024-03-20T15:57:11.395Z"
   },
   {
    "duration": 6,
    "start_time": "2024-03-20T15:57:11.403Z"
   },
   {
    "duration": 13,
    "start_time": "2024-03-20T15:57:11.411Z"
   },
   {
    "duration": 29,
    "start_time": "2024-03-20T15:57:11.425Z"
   },
   {
    "duration": 10,
    "start_time": "2024-03-20T15:57:11.456Z"
   },
   {
    "duration": 201,
    "start_time": "2024-03-20T15:57:11.492Z"
   },
   {
    "duration": 7,
    "start_time": "2024-03-20T15:57:15.220Z"
   },
   {
    "duration": 1269,
    "start_time": "2024-03-21T10:12:21.611Z"
   },
   {
    "duration": 75,
    "start_time": "2024-03-21T10:12:26.542Z"
   },
   {
    "duration": 68,
    "start_time": "2024-03-21T10:12:26.972Z"
   },
   {
    "duration": 53,
    "start_time": "2024-03-21T10:12:27.394Z"
   },
   {
    "duration": 11,
    "start_time": "2024-03-21T10:12:30.660Z"
   },
   {
    "duration": 11,
    "start_time": "2024-03-21T10:12:32.509Z"
   },
   {
    "duration": 9,
    "start_time": "2024-03-21T10:12:33.152Z"
   },
   {
    "duration": 11,
    "start_time": "2024-03-21T10:12:34.627Z"
   },
   {
    "duration": 7,
    "start_time": "2024-03-21T10:12:35.272Z"
   },
   {
    "duration": 10,
    "start_time": "2024-03-21T10:12:36.666Z"
   },
   {
    "duration": 3,
    "start_time": "2024-03-21T10:16:25.637Z"
   },
   {
    "duration": 28,
    "start_time": "2024-03-21T10:16:27.957Z"
   },
   {
    "duration": 28,
    "start_time": "2024-03-21T10:16:28.447Z"
   },
   {
    "duration": 16,
    "start_time": "2024-03-21T10:16:28.805Z"
   },
   {
    "duration": 8,
    "start_time": "2024-03-21T10:16:29.612Z"
   },
   {
    "duration": 12,
    "start_time": "2024-03-21T10:16:30.853Z"
   },
   {
    "duration": 11,
    "start_time": "2024-03-21T10:16:31.513Z"
   },
   {
    "duration": 13,
    "start_time": "2024-03-21T10:16:32.069Z"
   },
   {
    "duration": 7,
    "start_time": "2024-03-21T10:16:32.577Z"
   },
   {
    "duration": 10,
    "start_time": "2024-03-21T10:16:34.136Z"
   },
   {
    "duration": 6,
    "start_time": "2024-03-21T10:16:59.037Z"
   },
   {
    "duration": 6,
    "start_time": "2024-03-21T10:16:59.536Z"
   },
   {
    "duration": 6,
    "start_time": "2024-03-21T10:17:00.067Z"
   },
   {
    "duration": 10,
    "start_time": "2024-03-21T10:17:14.442Z"
   },
   {
    "duration": 10,
    "start_time": "2024-03-21T10:25:12.219Z"
   },
   {
    "duration": 7,
    "start_time": "2024-03-21T10:25:14.595Z"
   },
   {
    "duration": 6,
    "start_time": "2024-03-21T10:28:56.205Z"
   },
   {
    "duration": 8,
    "start_time": "2024-03-21T10:37:08.439Z"
   },
   {
    "duration": 6,
    "start_time": "2024-03-21T10:37:08.852Z"
   },
   {
    "duration": 6,
    "start_time": "2024-03-21T10:37:09.284Z"
   },
   {
    "duration": 12,
    "start_time": "2024-03-21T10:37:09.775Z"
   },
   {
    "duration": 16,
    "start_time": "2024-03-21T10:37:10.655Z"
   },
   {
    "duration": 9,
    "start_time": "2024-03-21T10:37:12.650Z"
   },
   {
    "duration": 99,
    "start_time": "2024-03-21T10:56:54.430Z"
   },
   {
    "duration": 8,
    "start_time": "2024-03-21T10:57:10.189Z"
   },
   {
    "duration": 6,
    "start_time": "2024-03-21T11:01:01.843Z"
   },
   {
    "duration": 5,
    "start_time": "2024-03-21T11:01:08.207Z"
   },
   {
    "duration": 5,
    "start_time": "2024-03-21T11:01:14.815Z"
   },
   {
    "duration": 78,
    "start_time": "2024-03-21T11:01:24.043Z"
   },
   {
    "duration": 5,
    "start_time": "2024-03-21T11:01:28.206Z"
   },
   {
    "duration": 6,
    "start_time": "2024-03-21T11:01:33.476Z"
   },
   {
    "duration": 6,
    "start_time": "2024-03-21T11:02:44.144Z"
   },
   {
    "duration": 4,
    "start_time": "2024-03-21T11:02:52.020Z"
   },
   {
    "duration": 196,
    "start_time": "2024-03-21T11:03:47.139Z"
   },
   {
    "duration": 172,
    "start_time": "2024-03-21T11:10:23.421Z"
   },
   {
    "duration": 161,
    "start_time": "2024-03-21T11:20:16.640Z"
   },
   {
    "duration": 11,
    "start_time": "2024-03-21T11:28:51.709Z"
   },
   {
    "duration": 6,
    "start_time": "2024-03-21T11:30:11.447Z"
   },
   {
    "duration": 6,
    "start_time": "2024-03-21T11:30:53.798Z"
   },
   {
    "duration": 88,
    "start_time": "2024-03-21T11:32:25.323Z"
   },
   {
    "duration": 71,
    "start_time": "2024-03-21T11:44:27.721Z"
   },
   {
    "duration": 62,
    "start_time": "2024-03-21T11:45:16.463Z"
   },
   {
    "duration": 30,
    "start_time": "2024-03-21T20:23:33.920Z"
   },
   {
    "duration": 25,
    "start_time": "2024-03-21T20:23:46.354Z"
   },
   {
    "duration": 19,
    "start_time": "2024-03-21T20:25:28.519Z"
   },
   {
    "duration": 21,
    "start_time": "2024-03-21T20:25:40.228Z"
   },
   {
    "duration": 25,
    "start_time": "2024-03-21T20:25:50.358Z"
   },
   {
    "duration": 665,
    "start_time": "2024-03-21T20:32:18.614Z"
   },
   {
    "duration": 656,
    "start_time": "2024-03-21T20:32:36.232Z"
   },
   {
    "duration": 1775,
    "start_time": "2024-03-21T20:33:19.330Z"
   },
   {
    "duration": 1465,
    "start_time": "2024-03-21T20:33:54.649Z"
   },
   {
    "duration": 3,
    "start_time": "2024-03-21T23:12:00.375Z"
   },
   {
    "duration": 11,
    "start_time": "2024-03-21T23:12:01.340Z"
   },
   {
    "duration": 8,
    "start_time": "2024-03-21T23:13:03.050Z"
   },
   {
    "duration": 24,
    "start_time": "2024-03-21T23:13:09.024Z"
   },
   {
    "duration": 9,
    "start_time": "2024-03-21T23:13:15.017Z"
   },
   {
    "duration": 1213,
    "start_time": "2024-03-21T23:13:26.776Z"
   },
   {
    "duration": 28,
    "start_time": "2024-03-21T23:16:07.522Z"
   },
   {
    "duration": 3,
    "start_time": "2024-03-21T23:16:13.526Z"
   },
   {
    "duration": 1363,
    "start_time": "2024-03-21T23:16:14.589Z"
   },
   {
    "duration": 4,
    "start_time": "2024-03-21T23:16:40.969Z"
   },
   {
    "duration": 129,
    "start_time": "2024-03-21T23:16:41.615Z"
   },
   {
    "duration": 127,
    "start_time": "2024-03-21T23:17:18.989Z"
   },
   {
    "duration": 4,
    "start_time": "2024-03-21T23:18:48.073Z"
   },
   {
    "duration": 130,
    "start_time": "2024-03-21T23:18:49.397Z"
   },
   {
    "duration": 3,
    "start_time": "2024-03-21T23:32:39.911Z"
   },
   {
    "duration": 6,
    "start_time": "2024-03-21T23:34:14.737Z"
   },
   {
    "duration": 17,
    "start_time": "2024-03-21T23:40:18.901Z"
   },
   {
    "duration": 741,
    "start_time": "2024-03-21T23:40:28.043Z"
   },
   {
    "duration": 5,
    "start_time": "2024-03-21T23:46:08.397Z"
   },
   {
    "duration": 8,
    "start_time": "2024-03-21T23:49:25.079Z"
   },
   {
    "duration": 47,
    "start_time": "2024-03-22T12:16:50.342Z"
   },
   {
    "duration": 1165,
    "start_time": "2024-03-22T12:16:58.699Z"
   },
   {
    "duration": 89,
    "start_time": "2024-03-22T12:16:59.866Z"
   },
   {
    "duration": 162,
    "start_time": "2024-03-22T12:16:59.957Z"
   },
   {
    "duration": 58,
    "start_time": "2024-03-22T12:17:00.121Z"
   },
   {
    "duration": 12,
    "start_time": "2024-03-22T12:17:00.180Z"
   },
   {
    "duration": 88,
    "start_time": "2024-03-22T12:17:00.193Z"
   },
   {
    "duration": 96,
    "start_time": "2024-03-22T12:17:00.283Z"
   },
   {
    "duration": 148,
    "start_time": "2024-03-22T12:17:00.381Z"
   },
   {
    "duration": 81,
    "start_time": "2024-03-22T12:17:00.530Z"
   },
   {
    "duration": 105,
    "start_time": "2024-03-22T12:17:00.613Z"
   },
   {
    "duration": 62,
    "start_time": "2024-03-22T12:17:00.720Z"
   },
   {
    "duration": 82,
    "start_time": "2024-03-22T12:17:00.784Z"
   },
   {
    "duration": 51,
    "start_time": "2024-03-22T12:17:00.868Z"
   },
   {
    "duration": 33,
    "start_time": "2024-03-22T12:17:00.921Z"
   },
   {
    "duration": 123,
    "start_time": "2024-03-22T12:17:00.955Z"
   },
   {
    "duration": 74,
    "start_time": "2024-03-22T12:17:01.080Z"
   },
   {
    "duration": 81,
    "start_time": "2024-03-22T12:17:01.156Z"
   },
   {
    "duration": 29,
    "start_time": "2024-03-22T12:17:01.239Z"
   },
   {
    "duration": 52,
    "start_time": "2024-03-22T12:17:01.270Z"
   },
   {
    "duration": 297,
    "start_time": "2024-03-22T12:17:01.324Z"
   },
   {
    "duration": 5,
    "start_time": "2024-03-22T12:17:01.623Z"
   },
   {
    "duration": 178,
    "start_time": "2024-03-22T12:17:01.630Z"
   },
   {
    "duration": 87,
    "start_time": "2024-03-22T12:17:01.810Z"
   },
   {
    "duration": 276,
    "start_time": "2024-03-22T12:17:01.899Z"
   },
   {
    "duration": 420,
    "start_time": "2024-03-22T12:17:02.177Z"
   },
   {
    "duration": 392,
    "start_time": "2024-03-22T12:17:02.599Z"
   },
   {
    "duration": 24,
    "start_time": "2024-03-22T12:17:02.993Z"
   },
   {
    "duration": 33,
    "start_time": "2024-03-22T12:17:03.021Z"
   },
   {
    "duration": 1505,
    "start_time": "2024-03-22T12:17:03.056Z"
   },
   {
    "duration": 31,
    "start_time": "2024-03-22T12:17:04.562Z"
   },
   {
    "duration": 4,
    "start_time": "2024-03-22T12:17:04.594Z"
   },
   {
    "duration": 6,
    "start_time": "2024-03-22T12:17:04.599Z"
   },
   {
    "duration": 156,
    "start_time": "2024-03-22T12:17:04.607Z"
   },
   {
    "duration": 8,
    "start_time": "2024-03-22T12:17:04.764Z"
   },
   {
    "duration": 788,
    "start_time": "2024-03-22T12:17:04.773Z"
   },
   {
    "duration": 7,
    "start_time": "2024-03-22T12:17:05.563Z"
   },
   {
    "duration": 8,
    "start_time": "2024-03-22T12:17:05.572Z"
   },
   {
    "duration": 7,
    "start_time": "2024-03-22T12:17:15.804Z"
   },
   {
    "duration": 51,
    "start_time": "2024-03-24T00:40:20.029Z"
   },
   {
    "duration": 1289,
    "start_time": "2024-03-24T00:40:24.344Z"
   },
   {
    "duration": 73,
    "start_time": "2024-03-24T00:40:25.635Z"
   },
   {
    "duration": 76,
    "start_time": "2024-03-24T00:40:25.709Z"
   },
   {
    "duration": 57,
    "start_time": "2024-03-24T00:40:25.788Z"
   },
   {
    "duration": 14,
    "start_time": "2024-03-24T00:40:25.847Z"
   },
   {
    "duration": 25,
    "start_time": "2024-03-24T00:40:25.863Z"
   },
   {
    "duration": 23,
    "start_time": "2024-03-24T00:40:25.890Z"
   },
   {
    "duration": 31,
    "start_time": "2024-03-24T00:40:25.915Z"
   },
   {
    "duration": 17,
    "start_time": "2024-03-24T00:40:25.948Z"
   },
   {
    "duration": 11,
    "start_time": "2024-03-24T00:40:25.968Z"
   },
   {
    "duration": 15,
    "start_time": "2024-03-24T00:40:25.981Z"
   },
   {
    "duration": 9,
    "start_time": "2024-03-24T00:40:25.999Z"
   },
   {
    "duration": 6,
    "start_time": "2024-03-24T00:40:26.010Z"
   },
   {
    "duration": 7,
    "start_time": "2024-03-24T00:40:26.017Z"
   },
   {
    "duration": 8,
    "start_time": "2024-03-24T00:40:26.025Z"
   },
   {
    "duration": 5,
    "start_time": "2024-03-24T00:40:26.034Z"
   },
   {
    "duration": 44,
    "start_time": "2024-03-24T00:40:26.041Z"
   },
   {
    "duration": 22,
    "start_time": "2024-03-24T00:40:26.088Z"
   },
   {
    "duration": 9,
    "start_time": "2024-03-24T00:40:26.111Z"
   },
   {
    "duration": 240,
    "start_time": "2024-03-24T00:40:26.121Z"
   },
   {
    "duration": 6,
    "start_time": "2024-03-24T00:40:26.363Z"
   },
   {
    "duration": 131,
    "start_time": "2024-03-24T00:40:26.371Z"
   },
   {
    "duration": 7,
    "start_time": "2024-03-24T00:40:26.505Z"
   },
   {
    "duration": 218,
    "start_time": "2024-03-24T00:40:26.513Z"
   },
   {
    "duration": 518,
    "start_time": "2024-03-24T00:40:26.733Z"
   },
   {
    "duration": 454,
    "start_time": "2024-03-24T00:40:27.253Z"
   },
   {
    "duration": 27,
    "start_time": "2024-03-24T00:40:27.709Z"
   },
   {
    "duration": 48,
    "start_time": "2024-03-24T00:40:27.740Z"
   },
   {
    "duration": 1590,
    "start_time": "2024-03-24T00:40:27.790Z"
   },
   {
    "duration": 39,
    "start_time": "2024-03-24T00:40:29.383Z"
   },
   {
    "duration": 3,
    "start_time": "2024-03-24T00:40:29.423Z"
   },
   {
    "duration": 6,
    "start_time": "2024-03-24T00:40:29.428Z"
   },
   {
    "duration": 188,
    "start_time": "2024-03-24T00:40:29.435Z"
   },
   {
    "duration": 15,
    "start_time": "2024-03-24T00:40:29.624Z"
   },
   {
    "duration": 855,
    "start_time": "2024-03-24T00:40:29.641Z"
   },
   {
    "duration": 5,
    "start_time": "2024-03-24T00:40:32.679Z"
   },
   {
    "duration": 47,
    "start_time": "2024-03-24T01:30:14.763Z"
   },
   {
    "duration": 3,
    "start_time": "2024-03-24T01:30:27.544Z"
   },
   {
    "duration": 161,
    "start_time": "2024-03-24T01:30:52.201Z"
   },
   {
    "duration": 8,
    "start_time": "2024-03-24T01:31:57.097Z"
   },
   {
    "duration": 1000,
    "start_time": "2024-03-24T11:45:57.237Z"
   },
   {
    "duration": 75,
    "start_time": "2024-03-24T11:45:58.238Z"
   },
   {
    "duration": 76,
    "start_time": "2024-03-24T11:45:58.314Z"
   },
   {
    "duration": 59,
    "start_time": "2024-03-24T11:45:58.392Z"
   },
   {
    "duration": 10,
    "start_time": "2024-03-24T11:45:58.452Z"
   },
   {
    "duration": 9,
    "start_time": "2024-03-24T11:45:58.463Z"
   },
   {
    "duration": 13,
    "start_time": "2024-03-24T11:45:58.473Z"
   },
   {
    "duration": 13,
    "start_time": "2024-03-24T11:45:58.487Z"
   },
   {
    "duration": 6,
    "start_time": "2024-03-24T11:45:58.501Z"
   },
   {
    "duration": 9,
    "start_time": "2024-03-24T11:45:58.509Z"
   },
   {
    "duration": 13,
    "start_time": "2024-03-24T11:45:58.519Z"
   },
   {
    "duration": 5,
    "start_time": "2024-03-24T11:45:58.533Z"
   },
   {
    "duration": 3,
    "start_time": "2024-03-24T11:45:58.539Z"
   },
   {
    "duration": 8,
    "start_time": "2024-03-24T11:45:58.543Z"
   },
   {
    "duration": 6,
    "start_time": "2024-03-24T11:45:58.552Z"
   },
   {
    "duration": 5,
    "start_time": "2024-03-24T11:45:58.559Z"
   },
   {
    "duration": 8,
    "start_time": "2024-03-24T11:45:58.565Z"
   },
   {
    "duration": 38,
    "start_time": "2024-03-24T11:45:58.574Z"
   },
   {
    "duration": 13,
    "start_time": "2024-03-24T11:45:58.613Z"
   },
   {
    "duration": 158,
    "start_time": "2024-03-24T11:45:58.627Z"
   },
   {
    "duration": 4,
    "start_time": "2024-03-24T11:45:58.786Z"
   },
   {
    "duration": 87,
    "start_time": "2024-03-24T11:45:58.791Z"
   },
   {
    "duration": 5,
    "start_time": "2024-03-24T11:45:58.879Z"
   },
   {
    "duration": 150,
    "start_time": "2024-03-24T11:45:58.885Z"
   },
   {
    "duration": 441,
    "start_time": "2024-03-24T11:45:59.036Z"
   },
   {
    "duration": 395,
    "start_time": "2024-03-24T11:45:59.479Z"
   },
   {
    "duration": 27,
    "start_time": "2024-03-24T11:45:59.875Z"
   },
   {
    "duration": 22,
    "start_time": "2024-03-24T11:45:59.905Z"
   },
   {
    "duration": 1306,
    "start_time": "2024-03-24T11:45:59.928Z"
   },
   {
    "duration": 26,
    "start_time": "2024-03-24T11:46:01.236Z"
   },
   {
    "duration": 42,
    "start_time": "2024-03-24T11:46:01.264Z"
   },
   {
    "duration": 226,
    "start_time": "2024-03-24T11:46:01.307Z"
   },
   {
    "duration": 6,
    "start_time": "2024-03-24T11:46:01.535Z"
   },
   {
    "duration": 40,
    "start_time": "2024-03-24T11:46:01.543Z"
   },
   {
    "duration": 670,
    "start_time": "2024-03-24T11:46:01.584Z"
   },
   {
    "duration": 6,
    "start_time": "2024-03-24T11:46:02.256Z"
   },
   {
    "duration": 23,
    "start_time": "2024-03-24T11:46:02.264Z"
   },
   {
    "duration": 1026,
    "start_time": "2024-03-24T14:50:57.872Z"
   },
   {
    "duration": 28,
    "start_time": "2024-03-24T14:50:58.900Z"
   },
   {
    "duration": 31,
    "start_time": "2024-03-24T14:50:58.929Z"
   },
   {
    "duration": 15,
    "start_time": "2024-03-24T14:50:58.963Z"
   },
   {
    "duration": 12,
    "start_time": "2024-03-24T14:50:58.980Z"
   },
   {
    "duration": 13,
    "start_time": "2024-03-24T14:50:58.993Z"
   },
   {
    "duration": 10,
    "start_time": "2024-03-24T14:50:59.008Z"
   },
   {
    "duration": 13,
    "start_time": "2024-03-24T14:50:59.021Z"
   },
   {
    "duration": 6,
    "start_time": "2024-03-24T14:50:59.035Z"
   },
   {
    "duration": 7,
    "start_time": "2024-03-24T14:50:59.043Z"
   },
   {
    "duration": 9,
    "start_time": "2024-03-24T14:50:59.051Z"
   },
   {
    "duration": 4,
    "start_time": "2024-03-24T14:50:59.061Z"
   },
   {
    "duration": 35,
    "start_time": "2024-03-24T14:50:59.066Z"
   },
   {
    "duration": 7,
    "start_time": "2024-03-24T14:50:59.103Z"
   },
   {
    "duration": 5,
    "start_time": "2024-03-24T14:50:59.112Z"
   },
   {
    "duration": 4,
    "start_time": "2024-03-24T14:50:59.119Z"
   },
   {
    "duration": 11,
    "start_time": "2024-03-24T14:50:59.124Z"
   },
   {
    "duration": 16,
    "start_time": "2024-03-24T14:50:59.136Z"
   },
   {
    "duration": 9,
    "start_time": "2024-03-24T14:50:59.153Z"
   },
   {
    "duration": 206,
    "start_time": "2024-03-24T14:50:59.163Z"
   },
   {
    "duration": 4,
    "start_time": "2024-03-24T14:50:59.370Z"
   },
   {
    "duration": 91,
    "start_time": "2024-03-24T14:50:59.376Z"
   },
   {
    "duration": 5,
    "start_time": "2024-03-24T14:50:59.468Z"
   },
   {
    "duration": 164,
    "start_time": "2024-03-24T14:50:59.475Z"
   },
   {
    "duration": 365,
    "start_time": "2024-03-24T14:50:59.640Z"
   },
   {
    "duration": 415,
    "start_time": "2024-03-24T14:51:00.007Z"
   },
   {
    "duration": 26,
    "start_time": "2024-03-24T14:51:00.423Z"
   },
   {
    "duration": 44,
    "start_time": "2024-03-24T14:51:00.451Z"
   },
   {
    "duration": 1498,
    "start_time": "2024-03-24T14:51:00.497Z"
   },
   {
    "duration": 35,
    "start_time": "2024-03-24T14:51:01.996Z"
   },
   {
    "duration": 14,
    "start_time": "2024-03-24T14:51:02.033Z"
   },
   {
    "duration": 160,
    "start_time": "2024-03-24T14:51:02.049Z"
   },
   {
    "duration": 7,
    "start_time": "2024-03-24T14:51:02.210Z"
   },
   {
    "duration": 9,
    "start_time": "2024-03-24T14:51:02.218Z"
   },
   {
    "duration": 713,
    "start_time": "2024-03-24T14:51:02.228Z"
   },
   {
    "duration": 4,
    "start_time": "2024-03-24T14:51:02.942Z"
   },
   {
    "duration": 7,
    "start_time": "2024-03-24T14:51:02.948Z"
   },
   {
    "duration": 12,
    "start_time": "2024-03-24T14:51:34.659Z"
   },
   {
    "duration": 6,
    "start_time": "2024-03-24T14:52:04.819Z"
   },
   {
    "duration": 16,
    "start_time": "2024-03-24T14:58:01.145Z"
   },
   {
    "duration": 6,
    "start_time": "2024-03-24T14:58:20.291Z"
   },
   {
    "duration": 58,
    "start_time": "2024-03-24T15:43:07.013Z"
   },
   {
    "duration": 1319,
    "start_time": "2024-03-24T15:43:12.877Z"
   },
   {
    "duration": 101,
    "start_time": "2024-03-24T15:43:14.198Z"
   },
   {
    "duration": 145,
    "start_time": "2024-03-24T15:43:14.301Z"
   },
   {
    "duration": 73,
    "start_time": "2024-03-24T15:43:14.448Z"
   },
   {
    "duration": 13,
    "start_time": "2024-03-24T15:43:14.523Z"
   },
   {
    "duration": 14,
    "start_time": "2024-03-24T15:43:14.537Z"
   },
   {
    "duration": 10,
    "start_time": "2024-03-24T15:43:14.553Z"
   },
   {
    "duration": 12,
    "start_time": "2024-03-24T15:43:14.564Z"
   },
   {
    "duration": 11,
    "start_time": "2024-03-24T15:43:14.577Z"
   },
   {
    "duration": 13,
    "start_time": "2024-03-24T15:43:14.590Z"
   },
   {
    "duration": 10,
    "start_time": "2024-03-24T15:43:14.605Z"
   },
   {
    "duration": 8,
    "start_time": "2024-03-24T15:43:14.616Z"
   },
   {
    "duration": 9,
    "start_time": "2024-03-24T15:43:14.626Z"
   },
   {
    "duration": 8,
    "start_time": "2024-03-24T15:43:14.638Z"
   },
   {
    "duration": 6,
    "start_time": "2024-03-24T15:43:14.647Z"
   },
   {
    "duration": 6,
    "start_time": "2024-03-24T15:43:14.681Z"
   },
   {
    "duration": 21,
    "start_time": "2024-03-24T15:43:14.688Z"
   },
   {
    "duration": 16,
    "start_time": "2024-03-24T15:43:14.710Z"
   },
   {
    "duration": 9,
    "start_time": "2024-03-24T15:43:14.727Z"
   },
   {
    "duration": 194,
    "start_time": "2024-03-24T15:43:14.738Z"
   },
   {
    "duration": 6,
    "start_time": "2024-03-24T15:43:14.934Z"
   },
   {
    "duration": 98,
    "start_time": "2024-03-24T15:43:14.941Z"
   },
   {
    "duration": 6,
    "start_time": "2024-03-24T15:43:15.040Z"
   },
   {
    "duration": 200,
    "start_time": "2024-03-24T15:43:15.047Z"
   },
   {
    "duration": 451,
    "start_time": "2024-03-24T15:43:15.249Z"
   },
   {
    "duration": 406,
    "start_time": "2024-03-24T15:43:15.701Z"
   },
   {
    "duration": 26,
    "start_time": "2024-03-24T15:43:16.108Z"
   },
   {
    "duration": 24,
    "start_time": "2024-03-24T15:43:16.135Z"
   },
   {
    "duration": 1544,
    "start_time": "2024-03-24T15:43:16.161Z"
   },
   {
    "duration": 30,
    "start_time": "2024-03-24T15:43:17.707Z"
   },
   {
    "duration": 3,
    "start_time": "2024-03-24T15:43:17.738Z"
   },
   {
    "duration": 140,
    "start_time": "2024-03-24T15:43:17.742Z"
   },
   {
    "duration": 16,
    "start_time": "2024-03-24T15:43:17.883Z"
   },
   {
    "duration": 13,
    "start_time": "2024-03-24T15:43:17.901Z"
   },
   {
    "duration": 9,
    "start_time": "2024-03-24T15:43:17.915Z"
   },
   {
    "duration": 741,
    "start_time": "2024-03-24T15:43:20.543Z"
   },
   {
    "duration": 781,
    "start_time": "2024-03-24T15:44:13.134Z"
   },
   {
    "duration": 1058,
    "start_time": "2024-03-24T17:47:34.982Z"
   },
   {
    "duration": 28,
    "start_time": "2024-03-24T17:47:36.041Z"
   },
   {
    "duration": 25,
    "start_time": "2024-03-24T17:47:36.070Z"
   },
   {
    "duration": 14,
    "start_time": "2024-03-24T17:47:36.096Z"
   },
   {
    "duration": 9,
    "start_time": "2024-03-24T17:47:36.112Z"
   },
   {
    "duration": 12,
    "start_time": "2024-03-24T17:47:36.122Z"
   },
   {
    "duration": 7,
    "start_time": "2024-03-24T17:47:36.135Z"
   },
   {
    "duration": 16,
    "start_time": "2024-03-24T17:47:36.143Z"
   },
   {
    "duration": 5,
    "start_time": "2024-03-24T17:47:36.161Z"
   },
   {
    "duration": 8,
    "start_time": "2024-03-24T17:47:36.169Z"
   },
   {
    "duration": 10,
    "start_time": "2024-03-24T17:47:36.178Z"
   },
   {
    "duration": 16,
    "start_time": "2024-03-24T17:47:36.189Z"
   },
   {
    "duration": 4,
    "start_time": "2024-03-24T17:47:36.206Z"
   },
   {
    "duration": 6,
    "start_time": "2024-03-24T17:47:36.211Z"
   },
   {
    "duration": 14,
    "start_time": "2024-03-24T17:47:36.218Z"
   },
   {
    "duration": 5,
    "start_time": "2024-03-24T17:47:36.233Z"
   },
   {
    "duration": 12,
    "start_time": "2024-03-24T17:47:36.240Z"
   },
   {
    "duration": 15,
    "start_time": "2024-03-24T17:47:36.254Z"
   },
   {
    "duration": 33,
    "start_time": "2024-03-24T17:47:36.270Z"
   },
   {
    "duration": 163,
    "start_time": "2024-03-24T17:47:36.305Z"
   },
   {
    "duration": 5,
    "start_time": "2024-03-24T17:47:36.469Z"
   },
   {
    "duration": 93,
    "start_time": "2024-03-24T17:47:36.475Z"
   },
   {
    "duration": 5,
    "start_time": "2024-03-24T17:47:36.569Z"
   },
   {
    "duration": 152,
    "start_time": "2024-03-24T17:47:36.575Z"
   },
   {
    "duration": 354,
    "start_time": "2024-03-24T17:47:36.729Z"
   },
   {
    "duration": 390,
    "start_time": "2024-03-24T17:47:37.085Z"
   },
   {
    "duration": 26,
    "start_time": "2024-03-24T17:47:37.476Z"
   },
   {
    "duration": 29,
    "start_time": "2024-03-24T17:47:37.505Z"
   },
   {
    "duration": 1380,
    "start_time": "2024-03-24T17:47:37.536Z"
   },
   {
    "duration": 26,
    "start_time": "2024-03-24T17:47:38.917Z"
   },
   {
    "duration": 3,
    "start_time": "2024-03-24T17:47:38.945Z"
   },
   {
    "duration": 136,
    "start_time": "2024-03-24T17:47:38.949Z"
   },
   {
    "duration": 19,
    "start_time": "2024-03-24T17:47:39.086Z"
   },
   {
    "duration": 6,
    "start_time": "2024-03-24T17:47:39.106Z"
   },
   {
    "duration": 4,
    "start_time": "2024-03-24T17:47:39.113Z"
   },
   {
    "duration": 640,
    "start_time": "2024-03-24T17:47:39.118Z"
   },
   {
    "duration": 4,
    "start_time": "2024-03-24T17:47:39.759Z"
   },
   {
    "duration": 7,
    "start_time": "2024-03-24T17:47:39.764Z"
   },
   {
    "duration": 57,
    "start_time": "2024-03-24T17:58:50.314Z"
   },
   {
    "duration": 1275,
    "start_time": "2024-03-24T17:58:53.379Z"
   },
   {
    "duration": 99,
    "start_time": "2024-03-24T17:58:54.659Z"
   },
   {
    "duration": 131,
    "start_time": "2024-03-24T17:58:54.759Z"
   },
   {
    "duration": 65,
    "start_time": "2024-03-24T17:58:54.892Z"
   },
   {
    "duration": 11,
    "start_time": "2024-03-24T17:58:54.959Z"
   },
   {
    "duration": 13,
    "start_time": "2024-03-24T17:58:54.971Z"
   },
   {
    "duration": 19,
    "start_time": "2024-03-24T17:58:54.986Z"
   },
   {
    "duration": 15,
    "start_time": "2024-03-24T17:58:55.007Z"
   },
   {
    "duration": 7,
    "start_time": "2024-03-24T17:58:55.023Z"
   },
   {
    "duration": 10,
    "start_time": "2024-03-24T17:58:55.032Z"
   },
   {
    "duration": 20,
    "start_time": "2024-03-24T17:58:55.043Z"
   },
   {
    "duration": 6,
    "start_time": "2024-03-24T17:58:55.064Z"
   },
   {
    "duration": 19,
    "start_time": "2024-03-24T17:58:55.071Z"
   },
   {
    "duration": 6,
    "start_time": "2024-03-24T17:58:55.093Z"
   },
   {
    "duration": 6,
    "start_time": "2024-03-24T17:58:55.101Z"
   },
   {
    "duration": 4,
    "start_time": "2024-03-24T17:58:55.108Z"
   },
   {
    "duration": 9,
    "start_time": "2024-03-24T17:58:55.114Z"
   },
   {
    "duration": 36,
    "start_time": "2024-03-24T17:58:55.124Z"
   },
   {
    "duration": 8,
    "start_time": "2024-03-24T17:58:55.162Z"
   },
   {
    "duration": 182,
    "start_time": "2024-03-24T17:58:55.171Z"
   },
   {
    "duration": 5,
    "start_time": "2024-03-24T17:58:55.358Z"
   },
   {
    "duration": 98,
    "start_time": "2024-03-24T17:58:55.364Z"
   },
   {
    "duration": 5,
    "start_time": "2024-03-24T17:58:55.464Z"
   },
   {
    "duration": 173,
    "start_time": "2024-03-24T17:58:55.471Z"
   },
   {
    "duration": 430,
    "start_time": "2024-03-24T17:58:55.646Z"
   },
   {
    "duration": 396,
    "start_time": "2024-03-24T17:58:56.078Z"
   },
   {
    "duration": 23,
    "start_time": "2024-03-24T17:58:56.475Z"
   },
   {
    "duration": 24,
    "start_time": "2024-03-24T17:58:56.499Z"
   },
   {
    "duration": 1498,
    "start_time": "2024-03-24T17:58:56.525Z"
   },
   {
    "duration": 29,
    "start_time": "2024-03-24T17:58:58.024Z"
   },
   {
    "duration": 3,
    "start_time": "2024-03-24T17:58:58.054Z"
   },
   {
    "duration": 129,
    "start_time": "2024-03-24T17:58:58.058Z"
   },
   {
    "duration": 15,
    "start_time": "2024-03-24T17:58:58.188Z"
   },
   {
    "duration": 6,
    "start_time": "2024-03-24T17:58:58.205Z"
   },
   {
    "duration": 5,
    "start_time": "2024-03-24T17:58:58.212Z"
   },
   {
    "duration": 738,
    "start_time": "2024-03-24T17:58:58.219Z"
   },
   {
    "duration": 6,
    "start_time": "2024-03-24T17:58:58.958Z"
   },
   {
    "duration": 14,
    "start_time": "2024-03-24T17:58:58.965Z"
   },
   {
    "duration": 753,
    "start_time": "2024-03-24T17:59:40.594Z"
   },
   {
    "duration": 82,
    "start_time": "2024-03-24T18:00:33.433Z"
   },
   {
    "duration": 789,
    "start_time": "2024-03-24T18:00:45.397Z"
   },
   {
    "duration": 803,
    "start_time": "2024-03-24T18:01:00.548Z"
   },
   {
    "duration": 795,
    "start_time": "2024-03-24T18:01:19.717Z"
   },
   {
    "duration": 841,
    "start_time": "2024-03-24T18:01:35.545Z"
   },
   {
    "duration": 760,
    "start_time": "2024-03-24T18:02:39.650Z"
   },
   {
    "duration": 773,
    "start_time": "2024-03-24T18:02:48.264Z"
   },
   {
    "duration": 785,
    "start_time": "2024-03-24T18:03:08.828Z"
   },
   {
    "duration": 807,
    "start_time": "2024-03-24T18:03:25.342Z"
   },
   {
    "duration": 745,
    "start_time": "2024-03-24T18:03:37.368Z"
   },
   {
    "duration": 965,
    "start_time": "2024-03-24T18:05:08.683Z"
   },
   {
    "duration": 1001,
    "start_time": "2024-03-24T18:05:27.102Z"
   },
   {
    "duration": 262,
    "start_time": "2024-03-24T18:05:40.407Z"
   },
   {
    "duration": 177,
    "start_time": "2024-03-24T18:06:04.240Z"
   },
   {
    "duration": 168,
    "start_time": "2024-03-24T18:06:26.031Z"
   },
   {
    "duration": 207,
    "start_time": "2024-03-24T18:07:21.409Z"
   },
   {
    "duration": 175,
    "start_time": "2024-03-24T18:07:24.231Z"
   },
   {
    "duration": 497,
    "start_time": "2024-03-24T18:09:37.323Z"
   },
   {
    "duration": 430,
    "start_time": "2024-03-24T18:09:44.086Z"
   },
   {
    "duration": 17,
    "start_time": "2024-03-24T18:10:38.167Z"
   },
   {
    "duration": 17,
    "start_time": "2024-03-24T18:11:09.415Z"
   },
   {
    "duration": 74,
    "start_time": "2024-03-24T18:11:35.161Z"
   },
   {
    "duration": 722,
    "start_time": "2024-03-24T18:11:42.184Z"
   },
   {
    "duration": 725,
    "start_time": "2024-03-24T18:11:55.192Z"
   },
   {
    "duration": 757,
    "start_time": "2024-03-24T18:12:14.848Z"
   },
   {
    "duration": 349,
    "start_time": "2024-03-24T18:13:24.036Z"
   },
   {
    "duration": 1273,
    "start_time": "2024-03-24T18:13:34.134Z"
   },
   {
    "duration": 798,
    "start_time": "2024-03-24T18:13:41.848Z"
   },
   {
    "duration": 158,
    "start_time": "2024-03-24T18:14:25.025Z"
   },
   {
    "duration": 197,
    "start_time": "2024-03-24T18:15:22.663Z"
   },
   {
    "duration": 209,
    "start_time": "2024-03-24T18:16:07.391Z"
   },
   {
    "duration": 204,
    "start_time": "2024-03-24T18:16:24.224Z"
   },
   {
    "duration": 740,
    "start_time": "2024-03-24T18:16:47.384Z"
   },
   {
    "duration": 813,
    "start_time": "2024-03-24T18:17:26.159Z"
   },
   {
    "duration": 1348,
    "start_time": "2024-03-24T18:18:03.631Z"
   },
   {
    "duration": 18,
    "start_time": "2024-03-24T18:18:32.570Z"
   },
   {
    "duration": 809,
    "start_time": "2024-03-24T18:18:40.533Z"
   },
   {
    "duration": 767,
    "start_time": "2024-03-24T18:18:50.305Z"
   },
   {
    "duration": 696,
    "start_time": "2024-03-24T18:18:58.681Z"
   },
   {
    "duration": 753,
    "start_time": "2024-03-24T18:19:25.324Z"
   },
   {
    "duration": 806,
    "start_time": "2024-03-24T18:21:37.213Z"
   },
   {
    "duration": 874,
    "start_time": "2024-03-24T18:22:10.187Z"
   },
   {
    "duration": 17,
    "start_time": "2024-03-24T18:24:16.535Z"
   },
   {
    "duration": 17,
    "start_time": "2024-03-24T18:24:28.804Z"
   },
   {
    "duration": 22,
    "start_time": "2024-03-24T18:24:34.755Z"
   },
   {
    "duration": 15,
    "start_time": "2024-03-24T18:24:43.788Z"
   },
   {
    "duration": 88,
    "start_time": "2024-03-24T18:25:25.936Z"
   },
   {
    "duration": 26,
    "start_time": "2024-03-24T18:25:30.553Z"
   },
   {
    "duration": 647,
    "start_time": "2024-03-24T18:25:45.544Z"
   },
   {
    "duration": 7,
    "start_time": "2024-03-24T18:25:53.296Z"
   },
   {
    "duration": 6,
    "start_time": "2024-03-24T18:25:58.229Z"
   },
   {
    "duration": 8,
    "start_time": "2024-03-24T18:26:09.408Z"
   },
   {
    "duration": 734,
    "start_time": "2024-03-24T18:38:44.594Z"
   },
   {
    "duration": 712,
    "start_time": "2024-03-24T18:41:05.821Z"
   },
   {
    "duration": 474,
    "start_time": "2024-03-24T18:41:32.194Z"
   },
   {
    "duration": 471,
    "start_time": "2024-03-24T18:44:23.438Z"
   },
   {
    "duration": 471,
    "start_time": "2024-03-24T18:44:41.562Z"
   },
   {
    "duration": 78,
    "start_time": "2024-03-24T18:44:57.390Z"
   },
   {
    "duration": 473,
    "start_time": "2024-03-24T18:45:05.702Z"
   },
   {
    "duration": 748,
    "start_time": "2024-03-24T18:45:19.162Z"
   },
   {
    "duration": 801,
    "start_time": "2024-03-24T18:45:37.474Z"
   },
   {
    "duration": 734,
    "start_time": "2024-03-24T18:45:58.784Z"
   },
   {
    "duration": 3,
    "start_time": "2024-03-24T18:46:23.031Z"
   },
   {
    "duration": 728,
    "start_time": "2024-03-24T18:46:32.343Z"
   },
   {
    "duration": 196,
    "start_time": "2024-03-24T18:47:32.124Z"
   },
   {
    "duration": 8,
    "start_time": "2024-03-24T18:51:14.838Z"
   },
   {
    "duration": 13,
    "start_time": "2024-03-24T18:51:19.347Z"
   },
   {
    "duration": 8,
    "start_time": "2024-03-24T18:51:29.598Z"
   },
   {
    "duration": 9,
    "start_time": "2024-03-24T18:51:38.503Z"
   },
   {
    "duration": 9,
    "start_time": "2024-03-24T18:51:49.722Z"
   },
   {
    "duration": 1050,
    "start_time": "2024-03-24T19:38:29.215Z"
   },
   {
    "duration": 31,
    "start_time": "2024-03-24T19:38:30.267Z"
   },
   {
    "duration": 46,
    "start_time": "2024-03-24T19:38:30.300Z"
   },
   {
    "duration": 20,
    "start_time": "2024-03-24T19:38:30.349Z"
   },
   {
    "duration": 42,
    "start_time": "2024-03-24T19:38:30.371Z"
   },
   {
    "duration": 45,
    "start_time": "2024-03-24T19:38:30.414Z"
   },
   {
    "duration": 54,
    "start_time": "2024-03-24T19:38:30.460Z"
   },
   {
    "duration": 62,
    "start_time": "2024-03-24T19:38:30.515Z"
   },
   {
    "duration": 56,
    "start_time": "2024-03-24T19:38:30.579Z"
   },
   {
    "duration": 46,
    "start_time": "2024-03-24T19:38:30.638Z"
   },
   {
    "duration": 103,
    "start_time": "2024-03-24T19:38:30.686Z"
   },
   {
    "duration": 43,
    "start_time": "2024-03-24T19:38:30.791Z"
   },
   {
    "duration": 38,
    "start_time": "2024-03-24T19:38:30.836Z"
   },
   {
    "duration": 59,
    "start_time": "2024-03-24T19:38:30.876Z"
   },
   {
    "duration": 71,
    "start_time": "2024-03-24T19:38:30.937Z"
   },
   {
    "duration": 50,
    "start_time": "2024-03-24T19:38:31.010Z"
   },
   {
    "duration": 62,
    "start_time": "2024-03-24T19:38:31.062Z"
   },
   {
    "duration": 61,
    "start_time": "2024-03-24T19:38:31.126Z"
   },
   {
    "duration": 79,
    "start_time": "2024-03-24T19:38:31.188Z"
   },
   {
    "duration": 198,
    "start_time": "2024-03-24T19:38:31.268Z"
   },
   {
    "duration": 5,
    "start_time": "2024-03-24T19:38:31.467Z"
   },
   {
    "duration": 100,
    "start_time": "2024-03-24T19:38:31.474Z"
   },
   {
    "duration": 6,
    "start_time": "2024-03-24T19:38:31.575Z"
   },
   {
    "duration": 173,
    "start_time": "2024-03-24T19:38:31.582Z"
   },
   {
    "duration": 416,
    "start_time": "2024-03-24T19:38:31.757Z"
   },
   {
    "duration": 404,
    "start_time": "2024-03-24T19:38:32.175Z"
   },
   {
    "duration": 26,
    "start_time": "2024-03-24T19:38:32.581Z"
   },
   {
    "duration": 21,
    "start_time": "2024-03-24T19:38:32.610Z"
   },
   {
    "duration": 1304,
    "start_time": "2024-03-24T19:38:32.632Z"
   },
   {
    "duration": 28,
    "start_time": "2024-03-24T19:38:33.937Z"
   },
   {
    "duration": 4,
    "start_time": "2024-03-24T19:38:33.966Z"
   },
   {
    "duration": 146,
    "start_time": "2024-03-24T19:38:33.972Z"
   },
   {
    "duration": 13,
    "start_time": "2024-03-24T19:38:34.120Z"
   },
   {
    "duration": 6,
    "start_time": "2024-03-24T19:38:34.134Z"
   },
   {
    "duration": 4,
    "start_time": "2024-03-24T19:38:34.141Z"
   },
   {
    "duration": 674,
    "start_time": "2024-03-24T19:38:34.147Z"
   },
   {
    "duration": 9,
    "start_time": "2024-03-24T19:38:34.822Z"
   },
   {
    "duration": 4,
    "start_time": "2024-03-24T19:38:34.832Z"
   },
   {
    "duration": 11,
    "start_time": "2024-03-24T19:38:34.837Z"
   }
  ],
  "kernelspec": {
   "display_name": "Python 3 (ipykernel)",
   "language": "python",
   "name": "python3"
  },
  "language_info": {
   "codemirror_mode": {
    "name": "ipython",
    "version": 3
   },
   "file_extension": ".py",
   "mimetype": "text/x-python",
   "name": "python",
   "nbconvert_exporter": "python",
   "pygments_lexer": "ipython3",
   "version": "3.9.5"
  },
  "toc": {
   "base_numbering": 1,
   "nav_menu": {},
   "number_sections": true,
   "sideBar": true,
   "skip_h1_title": true,
   "title_cell": "Table of Contents",
   "title_sidebar": "Contents",
   "toc_cell": false,
   "toc_position": {},
   "toc_section_display": true,
   "toc_window_display": false
  }
 },
 "nbformat": 4,
 "nbformat_minor": 5
}
